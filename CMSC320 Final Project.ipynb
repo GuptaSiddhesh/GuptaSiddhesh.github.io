{
 "cells": [
  {
   "cell_type": "markdown",
   "id": "b1197c57",
   "metadata": {},
   "source": [
    "<h1 align=\"center\"> \n",
    "  CMSC320 Final Project\n",
    "</h1>\n",
    "<h1 align=\"center\"> \n",
    "  Univeristy of Maryland Computer Science Course Grade Predictor \n",
    "</h1>"
   ]
  },
  {
   "cell_type": "markdown",
   "id": "625e11af",
   "metadata": {},
   "source": [
    "<h2 align=\"center\"> Team: Siddhesh Gupta, Tanmay Prakash, Shanil Kothari </h2>"
   ]
  },
  {
   "cell_type": "markdown",
   "id": "b5fac35d",
   "metadata": {},
   "source": [
    "## Introduction\n",
    "Computer Science is a popular major at University of Maryland - College Park and as students of Computer Science our goal was to help other students by providing a tool to predict their performance in some of the courses. Students always wonder what grade they could get in their upper level courses and choose accordingly. Students also want to know how much work is required for a class or how difficult will a class be for them. \n",
    "    \n",
    "This is why we wanted to build a model which predict which upper level computer science courses can a student take and do reasonably well on them based on their performances in previous courses (Pre-Requisites or Gateway Courses). We want to answer the question that are grades and performance in a course correlated to the performance in the pre-requisite courses for that course? \n",
    "    \n",
    "If our model is reasonabaly successful, we can provide insights to students which can prove very helpful when taking some important decisions. For example, a student can know that historically other students who have a similar performance to them have ended with a X grade in the class. So student can understand and know that they might have to put in more work than usual to earn a better grade than this. And sometimes its just peace of mind and anxiety buster to know where you stand and where you can end-up at the end of the semester. The model can help predict the courses where a student can perform the best so they can make an informed decision which can impact their progress as a student at the university. "
   ]
  },
  {
   "cell_type": "markdown",
   "id": "b3bdf481",
   "metadata": {},
   "source": [
    "<h2> Data Collection </h2>\n",
    "\n",
    "Since a student's academic records are private and is enforced by laws like FERPA (Family Educational Rights and Privacy Act). FERPA is a federal law that protects a student's education records. It may only disclose a student's educational record if he or she has given written consent to do so. We requested for anonymized data from the University of Maryland, but due to these laws we could not gain access to the data. Therefore we had to do it the harder way - survey people for their data. For this we made a Google form to collect grades for each Computer Science course students took. The form was anonymous so that no personal information is collected and can be linked to a specific student.  \n",
    " \n",
    "Important things about the data -\n",
    "1. We generally saw a trend that students who performed well in classes shared their data. For most of the classes the average grade from the survey was heigher than the overall general average grade.\n",
    "2. Student's are allowed to skip certain classes through the help of AP's, high school credits, and Computer Science Exemption exams. We encountered such data and we had no way to determine which grade to assign the student. We made a general assumption to take these as B grades, which according to university policy means Good Mastery of the subject. This was done for the following courses - CMSC 131, CMSC 132, CMSC 216, CMSC 250, MATH 140, and MATH 141. \n",
    "3. There were cases where students didn't want to share the results/grades on a particular course. To deal with this, we averaged the grades in other courses that the student took and entered that value instead of \"Don't want to share\".\n",
    "4. There were some students who didn't attempt certain courses. We ignored such student enteries entirely for certain models depending on the subject.\n",
    "</p>"
   ]
  },
  {
   "cell_type": "code",
   "execution_count": 1,
   "id": "2c9e056e",
   "metadata": {},
   "outputs": [],
   "source": [
    "import pandas as pd\n",
    "import numpy as np\n",
    "import seaborn as sns\n",
    "import matplotlib.pyplot as plt\n",
    "plt.rcParams[\"figure.figsize\"] = (14,5)\n",
    "import warnings\n",
    "warnings.filterwarnings(\"ignore\")"
   ]
  },
  {
   "cell_type": "markdown",
   "id": "38466f8b",
   "metadata": {},
   "source": [
    "### Initial Data Cleaning\n",
    "We perform basic cleaning on the survey data so that we can visualize and perform exploratory data analysis."
   ]
  },
  {
   "cell_type": "code",
   "execution_count": 2,
   "id": "5ab9a93f",
   "metadata": {},
   "outputs": [],
   "source": [
    "df = pd.read_csv(\"data.csv\")"
   ]
  },
  {
   "cell_type": "code",
   "execution_count": 3,
   "id": "bd6d9ca6",
   "metadata": {},
   "outputs": [],
   "source": [
    "for i, row in df.iterrows():\n",
    "    txt = \"User{0}\"\n",
    "    df['Timestamp'][i] = txt.format(i) \n",
    "\n",
    "df.columns=[\"Users\", \"CMSC131\", \"CMSC132\", \"CMSC216\", \"CMSC250\", \"CMSC330\", \"CMSC351\", \"MATH140\", \"MATH141\", \"MATH240\", \"MATH241\", \n",
    "              \"STAT400\", \"CS_Track\", \"CMSC4XX\", \"CMSC411\", \"CMSC412\", \"CMSC414\", \"CMSC416\", \"CMSC417\", \"CMSC420\", \"CMSC421\",\n",
    "              \"CMSC422\", \"CMSC423\", \"CMSC424\", \"CMSC426\", \"CMSC427\", \"CMSC470\", \"CMSC430\", \"CMSC433\", \"CMSC434\", \"CMSC435\", \"CMSC436\", \n",
    "              \"CMSC451\", \"CMSC452\", \"CMSC454\", \"CMSC456\", \"CMSC457\", \"CMSC460\", \"CMSC466\", \"CMSC320\", \"CMSC425\", \"CMSC472\", \n",
    "              \"CMSC473\", \"CMSC474\", \"CMSC475\", \"Graduated\"]"
   ]
  },
  {
   "cell_type": "code",
   "execution_count": 4,
   "id": "5add93db",
   "metadata": {},
   "outputs": [],
   "source": [
    "df = df.replace(\"Don't want to share\", \"Not Attempted\")"
   ]
  },
  {
   "cell_type": "code",
   "execution_count": 5,
   "id": "4b7b6036",
   "metadata": {},
   "outputs": [],
   "source": [
    "df[df.columns[1:11]] = df[df.columns[1:11]].replace(\"Not Attempted\", np.nan)\n",
    "df[df.columns[14:45]] = df[df.columns[14:45]].replace(\"Not Attempted\", np.nan)"
   ]
  },
  {
   "cell_type": "code",
   "execution_count": 6,
   "id": "14ed9551",
   "metadata": {},
   "outputs": [
    {
     "data": {
      "text/html": [
       "<div>\n",
       "<style scoped>\n",
       "    .dataframe tbody tr th:only-of-type {\n",
       "        vertical-align: middle;\n",
       "    }\n",
       "\n",
       "    .dataframe tbody tr th {\n",
       "        vertical-align: top;\n",
       "    }\n",
       "\n",
       "    .dataframe thead th {\n",
       "        text-align: right;\n",
       "    }\n",
       "</style>\n",
       "<table border=\"1\" class=\"dataframe\">\n",
       "  <thead>\n",
       "    <tr style=\"text-align: right;\">\n",
       "      <th></th>\n",
       "      <th>Users</th>\n",
       "      <th>CMSC131</th>\n",
       "      <th>CMSC132</th>\n",
       "      <th>CMSC216</th>\n",
       "      <th>CMSC250</th>\n",
       "      <th>CMSC330</th>\n",
       "      <th>CMSC351</th>\n",
       "      <th>MATH140</th>\n",
       "      <th>MATH141</th>\n",
       "      <th>MATH240</th>\n",
       "      <th>...</th>\n",
       "      <th>CMSC457</th>\n",
       "      <th>CMSC460</th>\n",
       "      <th>CMSC466</th>\n",
       "      <th>CMSC320</th>\n",
       "      <th>CMSC425</th>\n",
       "      <th>CMSC472</th>\n",
       "      <th>CMSC473</th>\n",
       "      <th>CMSC474</th>\n",
       "      <th>CMSC475</th>\n",
       "      <th>Graduated</th>\n",
       "    </tr>\n",
       "  </thead>\n",
       "  <tbody>\n",
       "    <tr>\n",
       "      <th>0</th>\n",
       "      <td>User0</td>\n",
       "      <td>A</td>\n",
       "      <td>A</td>\n",
       "      <td>A</td>\n",
       "      <td>A</td>\n",
       "      <td>A</td>\n",
       "      <td>B-</td>\n",
       "      <td>A</td>\n",
       "      <td>A</td>\n",
       "      <td>A</td>\n",
       "      <td>...</td>\n",
       "      <td>NaN</td>\n",
       "      <td>NaN</td>\n",
       "      <td>NaN</td>\n",
       "      <td>A</td>\n",
       "      <td>NaN</td>\n",
       "      <td>NaN</td>\n",
       "      <td>NaN</td>\n",
       "      <td>NaN</td>\n",
       "      <td>NaN</td>\n",
       "      <td>Not Completed</td>\n",
       "    </tr>\n",
       "    <tr>\n",
       "      <th>1</th>\n",
       "      <td>User1</td>\n",
       "      <td>A</td>\n",
       "      <td>A-</td>\n",
       "      <td>A-</td>\n",
       "      <td>A</td>\n",
       "      <td>A</td>\n",
       "      <td>A+</td>\n",
       "      <td>A</td>\n",
       "      <td>A</td>\n",
       "      <td>NaN</td>\n",
       "      <td>...</td>\n",
       "      <td>NaN</td>\n",
       "      <td>NaN</td>\n",
       "      <td>NaN</td>\n",
       "      <td>NaN</td>\n",
       "      <td>NaN</td>\n",
       "      <td>NaN</td>\n",
       "      <td>NaN</td>\n",
       "      <td>NaN</td>\n",
       "      <td>NaN</td>\n",
       "      <td>NaN</td>\n",
       "    </tr>\n",
       "    <tr>\n",
       "      <th>2</th>\n",
       "      <td>User2</td>\n",
       "      <td>B</td>\n",
       "      <td>B-</td>\n",
       "      <td>B</td>\n",
       "      <td>C+</td>\n",
       "      <td>A</td>\n",
       "      <td>A</td>\n",
       "      <td>A</td>\n",
       "      <td>A</td>\n",
       "      <td>A</td>\n",
       "      <td>...</td>\n",
       "      <td>NaN</td>\n",
       "      <td>NaN</td>\n",
       "      <td>NaN</td>\n",
       "      <td>B-</td>\n",
       "      <td>NaN</td>\n",
       "      <td>NaN</td>\n",
       "      <td>NaN</td>\n",
       "      <td>NaN</td>\n",
       "      <td>NaN</td>\n",
       "      <td>Not Completed</td>\n",
       "    </tr>\n",
       "    <tr>\n",
       "      <th>3</th>\n",
       "      <td>User3</td>\n",
       "      <td>A</td>\n",
       "      <td>B+</td>\n",
       "      <td>B-</td>\n",
       "      <td>B</td>\n",
       "      <td>B+</td>\n",
       "      <td>C-</td>\n",
       "      <td>NaN</td>\n",
       "      <td>NaN</td>\n",
       "      <td>B</td>\n",
       "      <td>...</td>\n",
       "      <td>NaN</td>\n",
       "      <td>NaN</td>\n",
       "      <td>NaN</td>\n",
       "      <td>NaN</td>\n",
       "      <td>NaN</td>\n",
       "      <td>NaN</td>\n",
       "      <td>NaN</td>\n",
       "      <td>NaN</td>\n",
       "      <td>NaN</td>\n",
       "      <td>Not Completed</td>\n",
       "    </tr>\n",
       "    <tr>\n",
       "      <th>4</th>\n",
       "      <td>User4</td>\n",
       "      <td>A</td>\n",
       "      <td>A</td>\n",
       "      <td>A-</td>\n",
       "      <td>A</td>\n",
       "      <td>A-</td>\n",
       "      <td>A+</td>\n",
       "      <td>A</td>\n",
       "      <td>A+</td>\n",
       "      <td>A-</td>\n",
       "      <td>...</td>\n",
       "      <td>NaN</td>\n",
       "      <td>NaN</td>\n",
       "      <td>NaN</td>\n",
       "      <td>A</td>\n",
       "      <td>NaN</td>\n",
       "      <td>NaN</td>\n",
       "      <td>NaN</td>\n",
       "      <td>NaN</td>\n",
       "      <td>NaN</td>\n",
       "      <td>Not Completed</td>\n",
       "    </tr>\n",
       "  </tbody>\n",
       "</table>\n",
       "<p>5 rows × 46 columns</p>\n",
       "</div>"
      ],
      "text/plain": [
       "   Users CMSC131 CMSC132 CMSC216 CMSC250 CMSC330 CMSC351 MATH140 MATH141  \\\n",
       "0  User0       A       A       A       A       A      B-       A       A   \n",
       "1  User1       A      A-      A-       A       A      A+       A       A   \n",
       "2  User2       B      B-       B      C+       A       A       A       A   \n",
       "3  User3       A      B+      B-       B      B+      C-     NaN     NaN   \n",
       "4  User4       A       A      A-       A      A-      A+       A      A+   \n",
       "\n",
       "  MATH240  ... CMSC457 CMSC460 CMSC466 CMSC320 CMSC425 CMSC472 CMSC473  \\\n",
       "0       A  ...     NaN     NaN     NaN       A     NaN     NaN     NaN   \n",
       "1     NaN  ...     NaN     NaN     NaN     NaN     NaN     NaN     NaN   \n",
       "2       A  ...     NaN     NaN     NaN      B-     NaN     NaN     NaN   \n",
       "3       B  ...     NaN     NaN     NaN     NaN     NaN     NaN     NaN   \n",
       "4      A-  ...     NaN     NaN     NaN       A     NaN     NaN     NaN   \n",
       "\n",
       "   CMSC474 CMSC475      Graduated  \n",
       "0      NaN     NaN  Not Completed  \n",
       "1      NaN     NaN            NaN  \n",
       "2      NaN     NaN  Not Completed  \n",
       "3      NaN     NaN  Not Completed  \n",
       "4      NaN     NaN  Not Completed  \n",
       "\n",
       "[5 rows x 46 columns]"
      ]
     },
     "execution_count": 6,
     "metadata": {},
     "output_type": "execute_result"
    }
   ],
   "source": [
    "df.head()"
   ]
  },
  {
   "cell_type": "markdown",
   "id": "77128f36",
   "metadata": {},
   "source": [
    "## Exploratory Data Analysis"
   ]
  },
  {
   "cell_type": "code",
   "execution_count": 7,
   "id": "466faeb9",
   "metadata": {},
   "outputs": [
    {
     "data": {
      "image/png": "[encoded data removed]",
      "text/plain": [
       "<Figure size 1008x360 with 1 Axes>"
      ]
     },
     "metadata": {
      "needs_background": "light"
     },
     "output_type": "display_data"
    },
    {
     "data": {
      "image/png": "[encoded data removed]",
      "text/plain": [
       "<Figure size 1008x360 with 1 Axes>"
      ]
     },
     "metadata": {
      "needs_background": "light"
     },
     "output_type": "display_data"
    },
    {
     "data": {
      "image/png": "[encoded data removed]",
      "text/plain": [
       "<Figure size 1008x360 with 1 Axes>"
      ]
     },
     "metadata": {
      "needs_background": "light"
     },
     "output_type": "display_data"
    },
    {
     "data": {
      "image/png": "[encoded data removed]",
      "text/plain": [
       "<Figure size 1008x360 with 1 Axes>"
      ]
     },
     "metadata": {
      "needs_background": "light"
     },
     "output_type": "display_data"
    }
   ],
   "source": [
    "MATH140 = df['MATH140'].value_counts()\n",
    "sns.barplot(MATH140.index, MATH140.values)\n",
    "plt.title(\"MATH140 Grade Distribution\")\n",
    "plt.xlabel(\"Grade\")\n",
    "plt.ylabel(\"Frequency\")\n",
    "plt.show()\n",
    "MATH141 = df['MATH141'].value_counts()\n",
    "sns.barplot(MATH141.index, MATH141.values)\n",
    "plt.title(\"MATH140 Grade Distribution\")\n",
    "plt.xlabel(\"Grade\")\n",
    "plt.ylabel(\"Frequency\")\n",
    "plt.show()\n",
    "CMSC131 = df['CMSC131'].value_counts()\n",
    "sns.barplot(CMSC131.index, CMSC131.values)\n",
    "plt.title(\"CMSC131 Grade Distribution\")\n",
    "plt.xlabel(\"Grade\")\n",
    "plt.ylabel(\"Frequency\")\n",
    "plt.show()\n",
    "CMSC132 = df['CMSC132'].value_counts()\n",
    "sns.barplot(CMSC132.index, CMSC132.values)\n",
    "plt.title(\"CMSC132 Grade Distribution\")\n",
    "plt.xlabel(\"Grade\")\n",
    "plt.ylabel(\"Frequency\")\n",
    "plt.show()"
   ]
  },
  {
   "cell_type": "code",
   "execution_count": 8,
   "id": "e101629b",
   "metadata": {},
   "outputs": [
    {
     "data": {
      "image/png": "[encoded data removed]",
      "text/plain": [
       "<Figure size 1008x360 with 1 Axes>"
      ]
     },
     "metadata": {
      "needs_background": "light"
     },
     "output_type": "display_data"
    },
    {
     "data": {
      "image/png": "[encoded data removed]",
      "text/plain": [
       "<Figure size 1008x360 with 1 Axes>"
      ]
     },
     "metadata": {
      "needs_background": "light"
     },
     "output_type": "display_data"
    },
    {
     "data": {
      "image/png": "[encoded data removed]",
      "text/plain": [
       "<Figure size 1008x360 with 1 Axes>"
      ]
     },
     "metadata": {
      "needs_background": "light"
     },
     "output_type": "display_data"
    },
    {
     "data": {
      "image/png": "[encoded data removed]",
      "text/plain": [
       "<Figure size 1008x360 with 1 Axes>"
      ]
     },
     "metadata": {
      "needs_background": "light"
     },
     "output_type": "display_data"
    }
   ],
   "source": [
    "# CMSC216\n",
    "CMSC216 = df['CMSC216'].value_counts()\n",
    "sns.barplot(CMSC216.values, CMSC216.index)\n",
    "plt.title(\"CMSC216 Grade Distribution\")\n",
    "plt.xlabel(\"Frequency\")\n",
    "plt.ylabel(\"Grade\")\n",
    "plt.show()\n",
    "# CMSC250\n",
    "CMSC250 = df['CMSC250'].value_counts()\n",
    "sns.barplot(CMSC250.values, CMSC250.index)\n",
    "plt.title(\"CMSC250 Grade Distribution\")\n",
    "plt.xlabel(\"Frequency\")\n",
    "plt.ylabel(\"Grade\")\n",
    "plt.show()\n",
    "# CMSC330\n",
    "CMSC330 = df['CMSC330'].value_counts()\n",
    "sns.barplot(CMSC330.values, CMSC330.index)\n",
    "plt.title(\"CMSC330 Grade Distribution\")\n",
    "plt.xlabel(\"Frequency\")\n",
    "plt.ylabel(\"Grade\")\n",
    "plt.show()\n",
    "# CMSC351\n",
    "CMSC351 = df['CMSC351'].value_counts()\n",
    "sns.barplot(CMSC351.values, CMSC351.index)\n",
    "plt.title(\"CMSC351 Grade Distribution\")\n",
    "plt.xlabel(\"Frequency\")\n",
    "plt.ylabel(\"Grade\")\n",
    "plt.show()"
   ]
  },
  {
   "cell_type": "code",
   "execution_count": 9,
   "id": "892c19ee",
   "metadata": {},
   "outputs": [
    {
     "data": {
      "image/png": "[encoded data removed]",
      "text/plain": [
       "<Figure size 1008x360 with 1 Axes>"
      ]
     },
     "metadata": {},
     "output_type": "display_data"
    }
   ],
   "source": [
    "# AREA 1\n",
    "CMSC411_num = df['CMSC411'].notna().sum()\n",
    "CMSC412_num = df['CMSC412'].notna().sum()\n",
    "CMSC414_num = df['CMSC414'].notna().sum()\n",
    "CMSC417_num = df['CMSC417'].notna().sum()\n",
    "\n",
    "data = [CMSC411_num, CMSC412_num, CMSC414_num, CMSC417_num]\n",
    "labels = 'CMSC411', 'CMSC412', 'CMSC414', 'CMSC417'\n",
    "plt.pie(data,labels=labels,autopct='%1.1f%%')\n",
    "plt.title(\"Area 1\")\n",
    "plt.show()"
   ]
  },
  {
   "cell_type": "code",
   "execution_count": 10,
   "id": "62c8e46b",
   "metadata": {},
   "outputs": [
    {
     "data": {
      "image/png": "[encoded data removed]",
      "text/plain": [
       "<Figure size 1008x360 with 1 Axes>"
      ]
     },
     "metadata": {},
     "output_type": "display_data"
    }
   ],
   "source": [
    "# AREA 2\n",
    "CMSC420_num = df['CMSC420'].notna().sum()\n",
    "CMSC421_num = df['CMSC421'].notna().sum()\n",
    "CMSC422_num = df['CMSC422'].notna().sum()\n",
    "CMSC423_num = df['CMSC423'].notna().sum()\n",
    "CMSC424_num = df['CMSC424'].notna().sum()\n",
    "CMSC426_num = df['CMSC426'].notna().sum()\n",
    "CMSC427_num = df['CMSC427'].notna().sum()\n",
    "CMSC470_num = df['CMSC470'].notna().sum()\n",
    "data = [CMSC420_num, CMSC421_num, CMSC422_num, CMSC423_num, CMSC424_num, CMSC426_num, CMSC427_num, CMSC470_num]\n",
    "labels = 'CMSC420', 'CMSC421', 'CMSC422', 'CMSC423', 'CMSC424', 'CMSC426', 'CMSC427', 'CMSC470'\n",
    "plt.pie(data,labels=labels,autopct='%1.1f%%')\n",
    "plt.title(\"Area 2\")\n",
    "plt.show()"
   ]
  },
  {
   "cell_type": "code",
   "execution_count": 11,
   "id": "be4de5cf",
   "metadata": {},
   "outputs": [
    {
     "data": {
      "image/png": "[encoded data removed]",
      "text/plain": [
       "<Figure size 1008x360 with 1 Axes>"
      ]
     },
     "metadata": {},
     "output_type": "display_data"
    }
   ],
   "source": [
    "# AREA 3\n",
    "CMSC430_num = df['CMSC430'].notna().sum()\n",
    "CMSC433_num = df['CMSC433'].notna().sum()\n",
    "CMSC434_num = df['CMSC434'].notna().sum()\n",
    "CMSC435_num = df['CMSC435'].notna().sum()\n",
    "CMSC436_num = df['CMSC436'].notna().sum()\n",
    "data = [CMSC430_num, CMSC433_num, CMSC434_num, CMSC435_num, CMSC436_num]\n",
    "labels = 'CMSC430', 'CMSC433', 'CMSC434', 'CMSC435', 'CMSC436'\n",
    "plt.pie(data,labels=labels,autopct='%1.1f%%')\n",
    "plt.title(\"Area 3\")\n",
    "plt.show()"
   ]
  },
  {
   "cell_type": "code",
   "execution_count": 12,
   "id": "f6d3180e",
   "metadata": {},
   "outputs": [
    {
     "data": {
      "image/png": "[encoded data removed]",
      "text/plain": [
       "<Figure size 1008x360 with 1 Axes>"
      ]
     },
     "metadata": {},
     "output_type": "display_data"
    }
   ],
   "source": [
    "# AREA 4\n",
    "CMSC451_num = df['CMSC451'].notna().sum()\n",
    "CMSC452_num = df['CMSC452'].notna().sum()\n",
    "CMSC454_num = df['CMSC454'].notna().sum()\n",
    "CMSC456_num = df['CMSC456'].notna().sum()\n",
    "CMSC457_num = df['CMSC457'].notna().sum()\n",
    "CMSC474_num = df['CMSC474'].notna().sum()\n",
    "data = [CMSC451_num, CMSC452_num, CMSC454_num, CMSC456_num, CMSC457_num, CMSC474_num]\n",
    "labels = 'CMSC451', 'CMSC452', 'CMSC454', 'CMSC456', 'CMSC457', 'CMSC474'\n",
    "plt.pie(data,labels=labels,autopct='%1.1f%%')\n",
    "plt.title(\"Area 4\")\n",
    "plt.show()"
   ]
  },
  {
   "cell_type": "code",
   "execution_count": 13,
   "id": "6e6ba397",
   "metadata": {},
   "outputs": [
    {
     "data": {
      "image/png": "[encoded data removed]",
      "text/plain": [
       "<Figure size 1008x360 with 1 Axes>"
      ]
     },
     "metadata": {},
     "output_type": "display_data"
    }
   ],
   "source": [
    "# AREA 5\n",
    "CMSC460_num = df['CMSC460'].notna().sum()\n",
    "CMSC466_num = df['CMSC466'].notna().sum()\n",
    "data = [CMSC460_num, CMSC466_num]\n",
    "labels = 'CMSC460', 'CMSC466'\n",
    "plt.pie(data,labels=labels,autopct='%1.1f%%')\n",
    "plt.title(\"Area 5\")\n",
    "plt.show()"
   ]
  },
  {
   "cell_type": "code",
   "execution_count": 14,
   "id": "3d6c368b",
   "metadata": {},
   "outputs": [
    {
     "data": {
      "image/png": "[encoded data removed]",
      "text/plain": [
       "<Figure size 1008x360 with 1 Axes>"
      ]
     },
     "metadata": {},
     "output_type": "display_data"
    }
   ],
   "source": [
    "# UPPER LEVEL ELECTIVES\n",
    "CMSC320_num = df['CMSC320'].notna().sum()\n",
    "CMSC425_num = df['CMSC425'].notna().sum()\n",
    "CMSC472_num = df['CMSC472'].notna().sum()\n",
    "CMSC473_num = df['CMSC473'].notna().sum()\n",
    "CMSC475_num = df['CMSC475'].notna().sum()\n",
    "data = [CMSC420_num, CMSC425_num, CMSC472_num, CMSC473_num, CMSC475_num]\n",
    "labels = 'CMSC320', 'CMSC425', 'CMSC472','CMSC473', 'CMSC475'\n",
    "plt.pie(data,labels=labels,autopct='%1.1f%%')\n",
    "plt.title(\"Upper Level Electives\")\n",
    "plt.show()"
   ]
  },
  {
   "cell_type": "markdown",
   "id": "303e52e7",
   "metadata": {},
   "source": [
    "## Data Pre-Processing\n",
    "To prepare the data for training the model we need perform some data cleaning. We start by creating a function to replace the not attempted values for the pre-requisite courses and gateway requirements as these can be skipped in a number of ways by AP's, high school credits or by recieving credit by exam. So we create two dataframes for the computer science courses where we set the not attempted values to A and B. We do the same for compulsory mathematics courses. \n",
    "\n",
    "Then we define the upper level computer science courses in a different dataframe so we can merge it easily. Then there are 3 functions for merging the dataframes, dropping the plus and minus signs from grades and enconding the grades as numbers. We decided to drop the plus and minus signs from grades as it would make complicated for the model to train on so many different possible values and as we did not have many rows of data for each grade. We then encode the A as 4, B as 3, C as 2, D as 1, and F / Not Attempted / Don't want to share as 0.\n",
    "\n",
    "We then use a different approach for the MATH24x courses as by degree requirements, only one MATH24x course is required and many computer science chose to take either. So we decided to merge the grades into one column and take the higher grade if available. If the person has not attempted either, then we take the average of their MATH140 and MATH141 grades and drop it by one grade as MATH24x are more difficult compared to MATH14x courses. \n",
    "\n",
    "Finally, a clean version of the dataframe is ready to be used in the Machine Learning model."
   ]
  },
  {
   "cell_type": "code",
   "execution_count": 15,
   "id": "ed6404f5",
   "metadata": {},
   "outputs": [],
   "source": [
    "def replace_not_attempted(df, grade):\n",
    "    return df.replace('Not Attempted', grade)"
   ]
  },
  {
   "cell_type": "code",
   "execution_count": 16,
   "id": "c60a06c8",
   "metadata": {},
   "outputs": [],
   "source": [
    "df2 = df[[\"Users\", \"CMSC131\", \"CMSC132\", \"CMSC216\", \"CMSC250\"]]\n",
    "df_cs_A = replace_not_attempted(df2, 'A')\n",
    "df_cs_B = replace_not_attempted(df2, 'B')"
   ]
  },
  {
   "cell_type": "code",
   "execution_count": 17,
   "id": "800973d8",
   "metadata": {},
   "outputs": [],
   "source": [
    "df3 = df[[\"Users\", \"MATH140\", \"MATH141\", \"STAT400\"]]\n",
    "df_math_A = replace_not_attempted(df3, 'A')\n",
    "df_math_B = replace_not_attempted(df3, 'B')"
   ]
  },
  {
   "cell_type": "code",
   "execution_count": 18,
   "id": "25e1bff7",
   "metadata": {},
   "outputs": [],
   "source": [
    "df_upper = df[[\"Users\", \"CMSC330\", \"CMSC351\", \"CMSC411\", \"CMSC412\", \"CMSC414\", \"CMSC416\", \"CMSC417\", \"CMSC420\", \"CMSC421\",\n",
    "              \"CMSC422\", \"CMSC423\", \"CMSC424\", \"CMSC426\", \"CMSC427\", \"CMSC470\", \"CMSC430\", \"CMSC433\", \"CMSC434\", \"CMSC435\", \"CMSC436\", \n",
    "              \"CMSC451\", \"CMSC452\", \"CMSC454\", \"CMSC456\", \"CMSC457\", \"CMSC460\", \"CMSC466\", \"CMSC320\", \"CMSC425\", \"CMSC472\", \n",
    "              \"CMSC473\", \"CMSC474\", \"CMSC475\"]]"
   ]
  },
  {
   "cell_type": "code",
   "execution_count": 19,
   "id": "99b7f35f",
   "metadata": {},
   "outputs": [],
   "source": [
    "def merger(df, df_cs, df_math, df_upper):\n",
    "    df = df[[\"Users\", \"CS_Track\", \"CMSC4XX\", \"Graduated\"]]\n",
    "    df_temp = df.merge(df_math, on = \"Users\")\n",
    "    df_temp = df_temp.merge(df_cs, on = \"Users\")\n",
    "    return df_temp.merge(df_upper, on = \"Users\")\n",
    "\n",
    "def plus_minus_clean(df):\n",
    "    df_temp = df.replace([\"A-\", \"A+\"], \"A\")\n",
    "    df_temp = df_temp.replace([\"B-\", \"B+\"], \"B\")\n",
    "    df_temp = df_temp.replace([\"C-\", \"C+\"], \"C\")\n",
    "    df_temp = df_temp.replace([\"D-\", \"D+\"], \"D\")\n",
    "    return df_temp\n",
    "\n",
    "def encoding_help(df):\n",
    "    df_temp = df.replace(\"A\", 4)\n",
    "    df_temp = df_temp.replace(\"B\", 3)\n",
    "    df_temp = df_temp.replace(\"C\", 2)\n",
    "    df_temp = df_temp.replace(\"D\", 1)\n",
    "    df_temp = df_temp.replace([np.nan, \"F\"], 0)\n",
    "    return df_temp"
   ]
  },
  {
   "cell_type": "code",
   "execution_count": 20,
   "id": "319a4303",
   "metadata": {},
   "outputs": [],
   "source": [
    "df4 = merger(df, df_cs_A, df_math_A, df_upper)\n",
    "df5 = plus_minus_clean(df4)\n",
    "df6 = encoding_help(df5)"
   ]
  },
  {
   "cell_type": "code",
   "execution_count": 21,
   "id": "7cc2b1ee",
   "metadata": {},
   "outputs": [],
   "source": [
    "df_m24x = df[[\"MATH240\", \"MATH241\"]]\n",
    "df_m24x[\"MATH24x\"] = np.nan\n",
    "df_m24x = encoding_help(plus_minus_clean(df_m24x))"
   ]
  },
  {
   "cell_type": "code",
   "execution_count": 22,
   "id": "b8741a4f",
   "metadata": {},
   "outputs": [],
   "source": [
    "for i in range(df_m24x.shape[0]):\n",
    "    if(df_m24x.iat[i, 0] > df_m24x.iat[i, 1]):\n",
    "        df_m24x.iat[i, 2] = df_m24x.iat[i, 0]\n",
    "    elif(df_m24x.iat[i, 0] < df_m24x.iat[i, 1]):\n",
    "        df_m24x.iat[i, 2] = df_m24x.iat[i, 1]\n",
    "    elif(df_m24x.iat[i, 0] == 0):\n",
    "        df_m24x.iat[i, 2] = df6.iloc[i, 4:6].mean() - 1\n",
    "    elif(df_m24x.iat[i, 0] == df_m24x.iat[i, 1]):\n",
    "        df_m24x.iat[i, 2] = df_m24x.iat[i, 0]\n",
    "\n",
    "df_m24x[\"MATH24x\"] = df_m24x[\"MATH24x\"].astype(int)"
   ]
  },
  {
   "cell_type": "code",
   "execution_count": 23,
   "id": "876719e3",
   "metadata": {},
   "outputs": [],
   "source": [
    "df6.insert(6, \"MATH24x\", df_m24x[\"MATH24x\"])"
   ]
  },
  {
   "cell_type": "code",
   "execution_count": 24,
   "id": "4f33c3cd",
   "metadata": {},
   "outputs": [
    {
     "data": {
      "text/html": [
       "<div>\n",
       "<style scoped>\n",
       "    .dataframe tbody tr th:only-of-type {\n",
       "        vertical-align: middle;\n",
       "    }\n",
       "\n",
       "    .dataframe tbody tr th {\n",
       "        vertical-align: top;\n",
       "    }\n",
       "\n",
       "    .dataframe thead th {\n",
       "        text-align: right;\n",
       "    }\n",
       "</style>\n",
       "<table border=\"1\" class=\"dataframe\">\n",
       "  <thead>\n",
       "    <tr style=\"text-align: right;\">\n",
       "      <th></th>\n",
       "      <th>Users</th>\n",
       "      <th>CS_Track</th>\n",
       "      <th>CMSC4XX</th>\n",
       "      <th>Graduated</th>\n",
       "      <th>MATH140</th>\n",
       "      <th>MATH141</th>\n",
       "      <th>MATH24x</th>\n",
       "      <th>STAT400</th>\n",
       "      <th>CMSC131</th>\n",
       "      <th>CMSC132</th>\n",
       "      <th>...</th>\n",
       "      <th>CMSC456</th>\n",
       "      <th>CMSC457</th>\n",
       "      <th>CMSC460</th>\n",
       "      <th>CMSC466</th>\n",
       "      <th>CMSC320</th>\n",
       "      <th>CMSC425</th>\n",
       "      <th>CMSC472</th>\n",
       "      <th>CMSC473</th>\n",
       "      <th>CMSC474</th>\n",
       "      <th>CMSC475</th>\n",
       "    </tr>\n",
       "  </thead>\n",
       "  <tbody>\n",
       "    <tr>\n",
       "      <th>0</th>\n",
       "      <td>User0</td>\n",
       "      <td>General</td>\n",
       "      <td>Yes</td>\n",
       "      <td>Not Completed</td>\n",
       "      <td>4.0</td>\n",
       "      <td>4.0</td>\n",
       "      <td>4</td>\n",
       "      <td>4</td>\n",
       "      <td>4.0</td>\n",
       "      <td>4.0</td>\n",
       "      <td>...</td>\n",
       "      <td>0.0</td>\n",
       "      <td>0.0</td>\n",
       "      <td>0.0</td>\n",
       "      <td>0.0</td>\n",
       "      <td>4.0</td>\n",
       "      <td>0.0</td>\n",
       "      <td>0.0</td>\n",
       "      <td>0.0</td>\n",
       "      <td>0.0</td>\n",
       "      <td>0.0</td>\n",
       "    </tr>\n",
       "    <tr>\n",
       "      <th>1</th>\n",
       "      <td>User1</td>\n",
       "      <td>General</td>\n",
       "      <td>No</td>\n",
       "      <td>0</td>\n",
       "      <td>4.0</td>\n",
       "      <td>4.0</td>\n",
       "      <td>3</td>\n",
       "      <td>4</td>\n",
       "      <td>4.0</td>\n",
       "      <td>4.0</td>\n",
       "      <td>...</td>\n",
       "      <td>0.0</td>\n",
       "      <td>0.0</td>\n",
       "      <td>0.0</td>\n",
       "      <td>0.0</td>\n",
       "      <td>0.0</td>\n",
       "      <td>0.0</td>\n",
       "      <td>0.0</td>\n",
       "      <td>0.0</td>\n",
       "      <td>0.0</td>\n",
       "      <td>0.0</td>\n",
       "    </tr>\n",
       "    <tr>\n",
       "      <th>2</th>\n",
       "      <td>User2</td>\n",
       "      <td>General</td>\n",
       "      <td>Yes</td>\n",
       "      <td>Not Completed</td>\n",
       "      <td>4.0</td>\n",
       "      <td>4.0</td>\n",
       "      <td>4</td>\n",
       "      <td>3</td>\n",
       "      <td>3.0</td>\n",
       "      <td>3.0</td>\n",
       "      <td>...</td>\n",
       "      <td>0.0</td>\n",
       "      <td>0.0</td>\n",
       "      <td>0.0</td>\n",
       "      <td>0.0</td>\n",
       "      <td>3.0</td>\n",
       "      <td>0.0</td>\n",
       "      <td>0.0</td>\n",
       "      <td>0.0</td>\n",
       "      <td>0.0</td>\n",
       "      <td>0.0</td>\n",
       "    </tr>\n",
       "    <tr>\n",
       "      <th>3</th>\n",
       "      <td>User3</td>\n",
       "      <td>Data Science</td>\n",
       "      <td>Yes</td>\n",
       "      <td>Not Completed</td>\n",
       "      <td>0.0</td>\n",
       "      <td>0.0</td>\n",
       "      <td>3</td>\n",
       "      <td>3</td>\n",
       "      <td>4.0</td>\n",
       "      <td>3.0</td>\n",
       "      <td>...</td>\n",
       "      <td>0.0</td>\n",
       "      <td>0.0</td>\n",
       "      <td>0.0</td>\n",
       "      <td>0.0</td>\n",
       "      <td>0.0</td>\n",
       "      <td>0.0</td>\n",
       "      <td>0.0</td>\n",
       "      <td>0.0</td>\n",
       "      <td>0.0</td>\n",
       "      <td>0.0</td>\n",
       "    </tr>\n",
       "    <tr>\n",
       "      <th>4</th>\n",
       "      <td>User4</td>\n",
       "      <td>General</td>\n",
       "      <td>Yes</td>\n",
       "      <td>Not Completed</td>\n",
       "      <td>4.0</td>\n",
       "      <td>4.0</td>\n",
       "      <td>4</td>\n",
       "      <td>4</td>\n",
       "      <td>4.0</td>\n",
       "      <td>4.0</td>\n",
       "      <td>...</td>\n",
       "      <td>0.0</td>\n",
       "      <td>0.0</td>\n",
       "      <td>0.0</td>\n",
       "      <td>0.0</td>\n",
       "      <td>4.0</td>\n",
       "      <td>0.0</td>\n",
       "      <td>0.0</td>\n",
       "      <td>0.0</td>\n",
       "      <td>0.0</td>\n",
       "      <td>0.0</td>\n",
       "    </tr>\n",
       "  </tbody>\n",
       "</table>\n",
       "<p>5 rows × 45 columns</p>\n",
       "</div>"
      ],
      "text/plain": [
       "   Users      CS_Track CMSC4XX      Graduated  MATH140  MATH141  MATH24x  \\\n",
       "0  User0       General     Yes  Not Completed      4.0      4.0        4   \n",
       "1  User1       General      No              0      4.0      4.0        3   \n",
       "2  User2       General     Yes  Not Completed      4.0      4.0        4   \n",
       "3  User3  Data Science     Yes  Not Completed      0.0      0.0        3   \n",
       "4  User4       General     Yes  Not Completed      4.0      4.0        4   \n",
       "\n",
       "   STAT400  CMSC131  CMSC132  ...  CMSC456  CMSC457  CMSC460  CMSC466  \\\n",
       "0        4      4.0      4.0  ...      0.0      0.0      0.0      0.0   \n",
       "1        4      4.0      4.0  ...      0.0      0.0      0.0      0.0   \n",
       "2        3      3.0      3.0  ...      0.0      0.0      0.0      0.0   \n",
       "3        3      4.0      3.0  ...      0.0      0.0      0.0      0.0   \n",
       "4        4      4.0      4.0  ...      0.0      0.0      0.0      0.0   \n",
       "\n",
       "   CMSC320  CMSC425  CMSC472  CMSC473  CMSC474  CMSC475  \n",
       "0      4.0      0.0      0.0      0.0      0.0      0.0  \n",
       "1      0.0      0.0      0.0      0.0      0.0      0.0  \n",
       "2      3.0      0.0      0.0      0.0      0.0      0.0  \n",
       "3      0.0      0.0      0.0      0.0      0.0      0.0  \n",
       "4      4.0      0.0      0.0      0.0      0.0      0.0  \n",
       "\n",
       "[5 rows x 45 columns]"
      ]
     },
     "execution_count": 24,
     "metadata": {},
     "output_type": "execute_result"
    }
   ],
   "source": [
    "df6.head()"
   ]
  },
  {
   "cell_type": "code",
   "execution_count": 25,
   "id": "16d884bc",
   "metadata": {},
   "outputs": [
    {
     "data": {
      "text/html": [
       "<div>\n",
       "<style scoped>\n",
       "    .dataframe tbody tr th:only-of-type {\n",
       "        vertical-align: middle;\n",
       "    }\n",
       "\n",
       "    .dataframe tbody tr th {\n",
       "        vertical-align: top;\n",
       "    }\n",
       "\n",
       "    .dataframe thead th {\n",
       "        text-align: right;\n",
       "    }\n",
       "</style>\n",
       "<table border=\"1\" class=\"dataframe\">\n",
       "  <thead>\n",
       "    <tr style=\"text-align: right;\">\n",
       "      <th></th>\n",
       "      <th>Users</th>\n",
       "      <th>CMSC4XX</th>\n",
       "      <th>CMSC330</th>\n",
       "      <th>CMSC351</th>\n",
       "      <th>CMSC411</th>\n",
       "      <th>CMSC412</th>\n",
       "      <th>CMSC414</th>\n",
       "      <th>CMSC416</th>\n",
       "      <th>CMSC417</th>\n",
       "      <th>CMSC420</th>\n",
       "      <th>...</th>\n",
       "      <th>CMSC456</th>\n",
       "      <th>CMSC457</th>\n",
       "      <th>CMSC460</th>\n",
       "      <th>CMSC466</th>\n",
       "      <th>CMSC320</th>\n",
       "      <th>CMSC425</th>\n",
       "      <th>CMSC472</th>\n",
       "      <th>CMSC473</th>\n",
       "      <th>CMSC474</th>\n",
       "      <th>CMSC475</th>\n",
       "    </tr>\n",
       "  </thead>\n",
       "  <tbody>\n",
       "    <tr>\n",
       "      <th>0</th>\n",
       "      <td>User0</td>\n",
       "      <td>Yes</td>\n",
       "      <td>4.0</td>\n",
       "      <td>3.0</td>\n",
       "      <td>0.0</td>\n",
       "      <td>0.0</td>\n",
       "      <td>0.0</td>\n",
       "      <td>0.0</td>\n",
       "      <td>0.0</td>\n",
       "      <td>4.0</td>\n",
       "      <td>...</td>\n",
       "      <td>0.0</td>\n",
       "      <td>0.0</td>\n",
       "      <td>0.0</td>\n",
       "      <td>0.0</td>\n",
       "      <td>4.0</td>\n",
       "      <td>0.0</td>\n",
       "      <td>0.0</td>\n",
       "      <td>0.0</td>\n",
       "      <td>0.0</td>\n",
       "      <td>0.0</td>\n",
       "    </tr>\n",
       "    <tr>\n",
       "      <th>1</th>\n",
       "      <td>User1</td>\n",
       "      <td>No</td>\n",
       "      <td>4.0</td>\n",
       "      <td>4.0</td>\n",
       "      <td>0.0</td>\n",
       "      <td>0.0</td>\n",
       "      <td>0.0</td>\n",
       "      <td>0.0</td>\n",
       "      <td>0.0</td>\n",
       "      <td>0.0</td>\n",
       "      <td>...</td>\n",
       "      <td>0.0</td>\n",
       "      <td>0.0</td>\n",
       "      <td>0.0</td>\n",
       "      <td>0.0</td>\n",
       "      <td>0.0</td>\n",
       "      <td>0.0</td>\n",
       "      <td>0.0</td>\n",
       "      <td>0.0</td>\n",
       "      <td>0.0</td>\n",
       "      <td>0.0</td>\n",
       "    </tr>\n",
       "    <tr>\n",
       "      <th>2</th>\n",
       "      <td>User2</td>\n",
       "      <td>Yes</td>\n",
       "      <td>4.0</td>\n",
       "      <td>4.0</td>\n",
       "      <td>0.0</td>\n",
       "      <td>0.0</td>\n",
       "      <td>0.0</td>\n",
       "      <td>0.0</td>\n",
       "      <td>0.0</td>\n",
       "      <td>4.0</td>\n",
       "      <td>...</td>\n",
       "      <td>0.0</td>\n",
       "      <td>0.0</td>\n",
       "      <td>0.0</td>\n",
       "      <td>0.0</td>\n",
       "      <td>3.0</td>\n",
       "      <td>0.0</td>\n",
       "      <td>0.0</td>\n",
       "      <td>0.0</td>\n",
       "      <td>0.0</td>\n",
       "      <td>0.0</td>\n",
       "    </tr>\n",
       "    <tr>\n",
       "      <th>3</th>\n",
       "      <td>User3</td>\n",
       "      <td>Yes</td>\n",
       "      <td>3.0</td>\n",
       "      <td>2.0</td>\n",
       "      <td>0.0</td>\n",
       "      <td>0.0</td>\n",
       "      <td>0.0</td>\n",
       "      <td>0.0</td>\n",
       "      <td>0.0</td>\n",
       "      <td>0.0</td>\n",
       "      <td>...</td>\n",
       "      <td>0.0</td>\n",
       "      <td>0.0</td>\n",
       "      <td>0.0</td>\n",
       "      <td>0.0</td>\n",
       "      <td>0.0</td>\n",
       "      <td>0.0</td>\n",
       "      <td>0.0</td>\n",
       "      <td>0.0</td>\n",
       "      <td>0.0</td>\n",
       "      <td>0.0</td>\n",
       "    </tr>\n",
       "    <tr>\n",
       "      <th>4</th>\n",
       "      <td>User4</td>\n",
       "      <td>Yes</td>\n",
       "      <td>4.0</td>\n",
       "      <td>4.0</td>\n",
       "      <td>0.0</td>\n",
       "      <td>0.0</td>\n",
       "      <td>0.0</td>\n",
       "      <td>0.0</td>\n",
       "      <td>0.0</td>\n",
       "      <td>0.0</td>\n",
       "      <td>...</td>\n",
       "      <td>0.0</td>\n",
       "      <td>0.0</td>\n",
       "      <td>0.0</td>\n",
       "      <td>0.0</td>\n",
       "      <td>4.0</td>\n",
       "      <td>0.0</td>\n",
       "      <td>0.0</td>\n",
       "      <td>0.0</td>\n",
       "      <td>0.0</td>\n",
       "      <td>0.0</td>\n",
       "    </tr>\n",
       "  </tbody>\n",
       "</table>\n",
       "<p>5 rows × 35 columns</p>\n",
       "</div>"
      ],
      "text/plain": [
       "   Users CMSC4XX  CMSC330  CMSC351  CMSC411  CMSC412  CMSC414  CMSC416  \\\n",
       "0  User0     Yes      4.0      3.0      0.0      0.0      0.0      0.0   \n",
       "1  User1      No      4.0      4.0      0.0      0.0      0.0      0.0   \n",
       "2  User2     Yes      4.0      4.0      0.0      0.0      0.0      0.0   \n",
       "3  User3     Yes      3.0      2.0      0.0      0.0      0.0      0.0   \n",
       "4  User4     Yes      4.0      4.0      0.0      0.0      0.0      0.0   \n",
       "\n",
       "   CMSC417  CMSC420  ...  CMSC456  CMSC457  CMSC460  CMSC466  CMSC320  \\\n",
       "0      0.0      4.0  ...      0.0      0.0      0.0      0.0      4.0   \n",
       "1      0.0      0.0  ...      0.0      0.0      0.0      0.0      0.0   \n",
       "2      0.0      4.0  ...      0.0      0.0      0.0      0.0      3.0   \n",
       "3      0.0      0.0  ...      0.0      0.0      0.0      0.0      0.0   \n",
       "4      0.0      0.0  ...      0.0      0.0      0.0      0.0      4.0   \n",
       "\n",
       "   CMSC425  CMSC472  CMSC473  CMSC474  CMSC475  \n",
       "0      0.0      0.0      0.0      0.0      0.0  \n",
       "1      0.0      0.0      0.0      0.0      0.0  \n",
       "2      0.0      0.0      0.0      0.0      0.0  \n",
       "3      0.0      0.0      0.0      0.0      0.0  \n",
       "4      0.0      0.0      0.0      0.0      0.0  \n",
       "\n",
       "[5 rows x 35 columns]"
      ]
     },
     "execution_count": 25,
     "metadata": {},
     "output_type": "execute_result"
    }
   ],
   "source": [
    "df_ul = df6[[\"Users\", \"CMSC4XX\", \"CMSC330\", \"CMSC351\", \"CMSC411\", \"CMSC412\", \"CMSC414\", \"CMSC416\", \"CMSC417\", \"CMSC420\", \"CMSC421\",\n",
    "              \"CMSC422\", \"CMSC423\", \"CMSC424\", \"CMSC426\", \"CMSC427\", \"CMSC470\", \"CMSC430\", \"CMSC433\", \"CMSC434\", \"CMSC435\", \"CMSC436\", \n",
    "              \"CMSC451\", \"CMSC452\", \"CMSC454\", \"CMSC456\", \"CMSC457\", \"CMSC460\", \"CMSC466\", \"CMSC320\", \"CMSC425\", \"CMSC472\", \"CMSC473\", \"CMSC474\", \"CMSC475\"]]\n",
    "\n",
    "df_ul.head()"
   ]
  },
  {
   "cell_type": "code",
   "execution_count": null,
   "id": "9b9d89e9",
   "metadata": {},
   "outputs": [],
   "source": []
  }
 ],
 "metadata": {
  "kernelspec": {
   "display_name": "Python 3",
   "language": "python",
   "name": "python3"
  },
  "language_info": {
   "codemirror_mode": {
    "name": "ipython",
    "version": 3
   },
   "file_extension": ".py",
   "mimetype": "text/x-python",
   "name": "python",
   "nbconvert_exporter": "python",
   "pygments_lexer": "ipython3",
   "version": "3.8.8"
  }
 },
 "nbformat": 4,
 "nbformat_minor": 5
}
