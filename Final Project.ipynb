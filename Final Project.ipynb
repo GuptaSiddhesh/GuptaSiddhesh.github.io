{
 "cells": [
  {
   "cell_type": "code",
   "execution_count": 1,
   "metadata": {},
   "outputs": [],
   "source": [
    "import pandas as pd\n",
    "import numpy as np\n",
    "import seaborn as sns\n",
    "import matplotlib.pyplot as plt"
   ]
  },
  {
   "cell_type": "code",
   "execution_count": 2,
   "metadata": {
    "scrolled": true
   },
   "outputs": [
    {
     "data": {
      "text/html": [
       "<div>\n",
       "<style scoped>\n",
       "    .dataframe tbody tr th:only-of-type {\n",
       "        vertical-align: middle;\n",
       "    }\n",
       "\n",
       "    .dataframe tbody tr th {\n",
       "        vertical-align: top;\n",
       "    }\n",
       "\n",
       "    .dataframe thead th {\n",
       "        text-align: right;\n",
       "    }\n",
       "</style>\n",
       "<table border=\"1\" class=\"dataframe\">\n",
       "  <thead>\n",
       "    <tr style=\"text-align: right;\">\n",
       "      <th></th>\n",
       "      <th>Unnamed: 0</th>\n",
       "      <th>Users</th>\n",
       "      <th>CS_Track</th>\n",
       "      <th>CMSC4XX</th>\n",
       "      <th>Graduated</th>\n",
       "      <th>MATH140</th>\n",
       "      <th>MATH141</th>\n",
       "      <th>MATH240</th>\n",
       "      <th>MATH241</th>\n",
       "      <th>STAT400</th>\n",
       "      <th>...</th>\n",
       "      <th>CMSC456</th>\n",
       "      <th>CMSC457</th>\n",
       "      <th>CMSC460</th>\n",
       "      <th>CMSC466</th>\n",
       "      <th>CMSC320</th>\n",
       "      <th>CMSC425</th>\n",
       "      <th>CMSC472</th>\n",
       "      <th>CMSC473</th>\n",
       "      <th>CMSC474</th>\n",
       "      <th>CMSC475</th>\n",
       "    </tr>\n",
       "  </thead>\n",
       "  <tbody>\n",
       "    <tr>\n",
       "      <td>0</td>\n",
       "      <td>0</td>\n",
       "      <td>User0</td>\n",
       "      <td>General</td>\n",
       "      <td>Yes</td>\n",
       "      <td>Not Completed</td>\n",
       "      <td>A</td>\n",
       "      <td>A</td>\n",
       "      <td>A</td>\n",
       "      <td>A</td>\n",
       "      <td>A</td>\n",
       "      <td>...</td>\n",
       "      <td>NaN</td>\n",
       "      <td>NaN</td>\n",
       "      <td>NaN</td>\n",
       "      <td>NaN</td>\n",
       "      <td>A</td>\n",
       "      <td>NaN</td>\n",
       "      <td>NaN</td>\n",
       "      <td>NaN</td>\n",
       "      <td>NaN</td>\n",
       "      <td>NaN</td>\n",
       "    </tr>\n",
       "    <tr>\n",
       "      <td>1</td>\n",
       "      <td>1</td>\n",
       "      <td>User1</td>\n",
       "      <td>General</td>\n",
       "      <td>No</td>\n",
       "      <td>NaN</td>\n",
       "      <td>A</td>\n",
       "      <td>A</td>\n",
       "      <td>A</td>\n",
       "      <td>A</td>\n",
       "      <td>A+</td>\n",
       "      <td>...</td>\n",
       "      <td>NaN</td>\n",
       "      <td>NaN</td>\n",
       "      <td>NaN</td>\n",
       "      <td>NaN</td>\n",
       "      <td>NaN</td>\n",
       "      <td>NaN</td>\n",
       "      <td>NaN</td>\n",
       "      <td>NaN</td>\n",
       "      <td>NaN</td>\n",
       "      <td>NaN</td>\n",
       "    </tr>\n",
       "    <tr>\n",
       "      <td>2</td>\n",
       "      <td>2</td>\n",
       "      <td>User2</td>\n",
       "      <td>General</td>\n",
       "      <td>Yes</td>\n",
       "      <td>Not Completed</td>\n",
       "      <td>A</td>\n",
       "      <td>A</td>\n",
       "      <td>A</td>\n",
       "      <td>A</td>\n",
       "      <td>B+</td>\n",
       "      <td>...</td>\n",
       "      <td>NaN</td>\n",
       "      <td>NaN</td>\n",
       "      <td>NaN</td>\n",
       "      <td>NaN</td>\n",
       "      <td>B-</td>\n",
       "      <td>NaN</td>\n",
       "      <td>NaN</td>\n",
       "      <td>NaN</td>\n",
       "      <td>NaN</td>\n",
       "      <td>NaN</td>\n",
       "    </tr>\n",
       "    <tr>\n",
       "      <td>3</td>\n",
       "      <td>3</td>\n",
       "      <td>User3</td>\n",
       "      <td>Data Science</td>\n",
       "      <td>Yes</td>\n",
       "      <td>Not Completed</td>\n",
       "      <td>A</td>\n",
       "      <td>A</td>\n",
       "      <td>B</td>\n",
       "      <td>B+</td>\n",
       "      <td>B-</td>\n",
       "      <td>...</td>\n",
       "      <td>NaN</td>\n",
       "      <td>NaN</td>\n",
       "      <td>NaN</td>\n",
       "      <td>NaN</td>\n",
       "      <td>NaN</td>\n",
       "      <td>NaN</td>\n",
       "      <td>NaN</td>\n",
       "      <td>NaN</td>\n",
       "      <td>NaN</td>\n",
       "      <td>NaN</td>\n",
       "    </tr>\n",
       "    <tr>\n",
       "      <td>4</td>\n",
       "      <td>4</td>\n",
       "      <td>User4</td>\n",
       "      <td>General</td>\n",
       "      <td>Yes</td>\n",
       "      <td>Not Completed</td>\n",
       "      <td>A</td>\n",
       "      <td>A+</td>\n",
       "      <td>A-</td>\n",
       "      <td>A</td>\n",
       "      <td>A</td>\n",
       "      <td>...</td>\n",
       "      <td>NaN</td>\n",
       "      <td>NaN</td>\n",
       "      <td>NaN</td>\n",
       "      <td>NaN</td>\n",
       "      <td>A</td>\n",
       "      <td>NaN</td>\n",
       "      <td>NaN</td>\n",
       "      <td>NaN</td>\n",
       "      <td>NaN</td>\n",
       "      <td>NaN</td>\n",
       "    </tr>\n",
       "  </tbody>\n",
       "</table>\n",
       "<p>5 rows × 47 columns</p>\n",
       "</div>"
      ],
      "text/plain": [
       "   Unnamed: 0  Users      CS_Track CMSC4XX      Graduated MATH140 MATH141  \\\n",
       "0           0  User0       General     Yes  Not Completed       A       A   \n",
       "1           1  User1       General      No            NaN       A       A   \n",
       "2           2  User2       General     Yes  Not Completed       A       A   \n",
       "3           3  User3  Data Science     Yes  Not Completed       A       A   \n",
       "4           4  User4       General     Yes  Not Completed       A      A+   \n",
       "\n",
       "  MATH240 MATH241 STAT400  ... CMSC456 CMSC457 CMSC460 CMSC466 CMSC320  \\\n",
       "0       A       A       A  ...     NaN     NaN     NaN     NaN       A   \n",
       "1       A       A      A+  ...     NaN     NaN     NaN     NaN     NaN   \n",
       "2       A       A      B+  ...     NaN     NaN     NaN     NaN      B-   \n",
       "3       B      B+      B-  ...     NaN     NaN     NaN     NaN     NaN   \n",
       "4      A-       A       A  ...     NaN     NaN     NaN     NaN       A   \n",
       "\n",
       "  CMSC425 CMSC472 CMSC473 CMSC474  CMSC475  \n",
       "0     NaN     NaN     NaN     NaN      NaN  \n",
       "1     NaN     NaN     NaN     NaN      NaN  \n",
       "2     NaN     NaN     NaN     NaN      NaN  \n",
       "3     NaN     NaN     NaN     NaN      NaN  \n",
       "4     NaN     NaN     NaN     NaN      NaN  \n",
       "\n",
       "[5 rows x 47 columns]"
      ]
     },
     "execution_count": 2,
     "metadata": {},
     "output_type": "execute_result"
    }
   ],
   "source": [
    "df = pd.read_csv(\"clean.csv\")\n",
    "df.head()"
   ]
  },
  {
   "cell_type": "code",
   "execution_count": 3,
   "metadata": {},
   "outputs": [
    {
     "data": {
      "text/plain": [
       "'for i, row in df.iterrows():\\n    txt = \"User{0}\"\\n    df[\\'Timestamp\\'][i] = txt.format(i) \\n\\ndf.columns=[\"Users\", \"CMSC131\", \"CMSC132\", \"CMSC216\", \"CMSC250\", \"CMSC330\", \"CMSC351\", \"MATH140\", \"MATH141\", \"MATH240\", \"MATH241\", \\n              \"STAT400\", \"CS_Track\", \"CMSC4XX\", \"CMSC411\", \"CMSC412\", \"CMSC414\", \"CMSC416\", \"CMSC417\", \"CMSC420\", \"CMSC421\",\\n              \"CMSC422\", \"CMSC423\", \"CMSC424\", \"CMSC426\", \"CMSC427\", \"CMSC470\", \"CMSC430\", \"CMSC433\", \"CMSC434\", \"CMSC435\", \"CMSC436\", \\n              \"CMSC451\", \"CMSC452\", \"CMSC454\", \"CMSC456\", \"CMSC457\", \"CMSC460\", \"CMSC466\", \"CMSC320\", \"CMSC425\", \"CMSC472\", \\n              \"CMSC473\", \"CMSC474\", \"CMSC475\", \"Graduated\"]'"
      ]
     },
     "execution_count": 3,
     "metadata": {},
     "output_type": "execute_result"
    }
   ],
   "source": [
    "'''for i, row in df.iterrows():\n",
    "    txt = \"User{0}\"\n",
    "    df['Timestamp'][i] = txt.format(i) \n",
    "\n",
    "df.columns=[\"Users\", \"CMSC131\", \"CMSC132\", \"CMSC216\", \"CMSC250\", \"CMSC330\", \"CMSC351\", \"MATH140\", \"MATH141\", \"MATH240\", \"MATH241\", \n",
    "              \"STAT400\", \"CS_Track\", \"CMSC4XX\", \"CMSC411\", \"CMSC412\", \"CMSC414\", \"CMSC416\", \"CMSC417\", \"CMSC420\", \"CMSC421\",\n",
    "              \"CMSC422\", \"CMSC423\", \"CMSC424\", \"CMSC426\", \"CMSC427\", \"CMSC470\", \"CMSC430\", \"CMSC433\", \"CMSC434\", \"CMSC435\", \"CMSC436\", \n",
    "              \"CMSC451\", \"CMSC452\", \"CMSC454\", \"CMSC456\", \"CMSC457\", \"CMSC460\", \"CMSC466\", \"CMSC320\", \"CMSC425\", \"CMSC472\", \n",
    "              \"CMSC473\", \"CMSC474\", \"CMSC475\", \"Graduated\"]'''"
   ]
  },
  {
   "cell_type": "code",
   "execution_count": 4,
   "metadata": {},
   "outputs": [
    {
     "data": {
      "text/html": [
       "<div>\n",
       "<style scoped>\n",
       "    .dataframe tbody tr th:only-of-type {\n",
       "        vertical-align: middle;\n",
       "    }\n",
       "\n",
       "    .dataframe tbody tr th {\n",
       "        vertical-align: top;\n",
       "    }\n",
       "\n",
       "    .dataframe thead th {\n",
       "        text-align: right;\n",
       "    }\n",
       "</style>\n",
       "<table border=\"1\" class=\"dataframe\">\n",
       "  <thead>\n",
       "    <tr style=\"text-align: right;\">\n",
       "      <th></th>\n",
       "      <th>Unnamed: 0</th>\n",
       "      <th>Users</th>\n",
       "      <th>CS_Track</th>\n",
       "      <th>CMSC4XX</th>\n",
       "      <th>Graduated</th>\n",
       "      <th>MATH140</th>\n",
       "      <th>MATH141</th>\n",
       "      <th>MATH240</th>\n",
       "      <th>MATH241</th>\n",
       "      <th>STAT400</th>\n",
       "      <th>...</th>\n",
       "      <th>CMSC456</th>\n",
       "      <th>CMSC457</th>\n",
       "      <th>CMSC460</th>\n",
       "      <th>CMSC466</th>\n",
       "      <th>CMSC320</th>\n",
       "      <th>CMSC425</th>\n",
       "      <th>CMSC472</th>\n",
       "      <th>CMSC473</th>\n",
       "      <th>CMSC474</th>\n",
       "      <th>CMSC475</th>\n",
       "    </tr>\n",
       "  </thead>\n",
       "  <tbody>\n",
       "    <tr>\n",
       "      <td>0</td>\n",
       "      <td>0</td>\n",
       "      <td>User0</td>\n",
       "      <td>General</td>\n",
       "      <td>Yes</td>\n",
       "      <td>Not Completed</td>\n",
       "      <td>A</td>\n",
       "      <td>A</td>\n",
       "      <td>A</td>\n",
       "      <td>A</td>\n",
       "      <td>A</td>\n",
       "      <td>...</td>\n",
       "      <td>NaN</td>\n",
       "      <td>NaN</td>\n",
       "      <td>NaN</td>\n",
       "      <td>NaN</td>\n",
       "      <td>A</td>\n",
       "      <td>NaN</td>\n",
       "      <td>NaN</td>\n",
       "      <td>NaN</td>\n",
       "      <td>NaN</td>\n",
       "      <td>NaN</td>\n",
       "    </tr>\n",
       "    <tr>\n",
       "      <td>1</td>\n",
       "      <td>1</td>\n",
       "      <td>User1</td>\n",
       "      <td>General</td>\n",
       "      <td>No</td>\n",
       "      <td>NaN</td>\n",
       "      <td>A</td>\n",
       "      <td>A</td>\n",
       "      <td>A</td>\n",
       "      <td>A</td>\n",
       "      <td>A+</td>\n",
       "      <td>...</td>\n",
       "      <td>NaN</td>\n",
       "      <td>NaN</td>\n",
       "      <td>NaN</td>\n",
       "      <td>NaN</td>\n",
       "      <td>NaN</td>\n",
       "      <td>NaN</td>\n",
       "      <td>NaN</td>\n",
       "      <td>NaN</td>\n",
       "      <td>NaN</td>\n",
       "      <td>NaN</td>\n",
       "    </tr>\n",
       "    <tr>\n",
       "      <td>2</td>\n",
       "      <td>2</td>\n",
       "      <td>User2</td>\n",
       "      <td>General</td>\n",
       "      <td>Yes</td>\n",
       "      <td>Not Completed</td>\n",
       "      <td>A</td>\n",
       "      <td>A</td>\n",
       "      <td>A</td>\n",
       "      <td>A</td>\n",
       "      <td>B+</td>\n",
       "      <td>...</td>\n",
       "      <td>NaN</td>\n",
       "      <td>NaN</td>\n",
       "      <td>NaN</td>\n",
       "      <td>NaN</td>\n",
       "      <td>B-</td>\n",
       "      <td>NaN</td>\n",
       "      <td>NaN</td>\n",
       "      <td>NaN</td>\n",
       "      <td>NaN</td>\n",
       "      <td>NaN</td>\n",
       "    </tr>\n",
       "    <tr>\n",
       "      <td>3</td>\n",
       "      <td>3</td>\n",
       "      <td>User3</td>\n",
       "      <td>Data Science</td>\n",
       "      <td>Yes</td>\n",
       "      <td>Not Completed</td>\n",
       "      <td>A</td>\n",
       "      <td>A</td>\n",
       "      <td>B</td>\n",
       "      <td>B+</td>\n",
       "      <td>B-</td>\n",
       "      <td>...</td>\n",
       "      <td>NaN</td>\n",
       "      <td>NaN</td>\n",
       "      <td>NaN</td>\n",
       "      <td>NaN</td>\n",
       "      <td>NaN</td>\n",
       "      <td>NaN</td>\n",
       "      <td>NaN</td>\n",
       "      <td>NaN</td>\n",
       "      <td>NaN</td>\n",
       "      <td>NaN</td>\n",
       "    </tr>\n",
       "    <tr>\n",
       "      <td>4</td>\n",
       "      <td>4</td>\n",
       "      <td>User4</td>\n",
       "      <td>General</td>\n",
       "      <td>Yes</td>\n",
       "      <td>Not Completed</td>\n",
       "      <td>A</td>\n",
       "      <td>A+</td>\n",
       "      <td>A-</td>\n",
       "      <td>A</td>\n",
       "      <td>A</td>\n",
       "      <td>...</td>\n",
       "      <td>NaN</td>\n",
       "      <td>NaN</td>\n",
       "      <td>NaN</td>\n",
       "      <td>NaN</td>\n",
       "      <td>A</td>\n",
       "      <td>NaN</td>\n",
       "      <td>NaN</td>\n",
       "      <td>NaN</td>\n",
       "      <td>NaN</td>\n",
       "      <td>NaN</td>\n",
       "    </tr>\n",
       "  </tbody>\n",
       "</table>\n",
       "<p>5 rows × 47 columns</p>\n",
       "</div>"
      ],
      "text/plain": [
       "   Unnamed: 0  Users      CS_Track CMSC4XX      Graduated MATH140 MATH141  \\\n",
       "0           0  User0       General     Yes  Not Completed       A       A   \n",
       "1           1  User1       General      No            NaN       A       A   \n",
       "2           2  User2       General     Yes  Not Completed       A       A   \n",
       "3           3  User3  Data Science     Yes  Not Completed       A       A   \n",
       "4           4  User4       General     Yes  Not Completed       A      A+   \n",
       "\n",
       "  MATH240 MATH241 STAT400  ... CMSC456 CMSC457 CMSC460 CMSC466 CMSC320  \\\n",
       "0       A       A       A  ...     NaN     NaN     NaN     NaN       A   \n",
       "1       A       A      A+  ...     NaN     NaN     NaN     NaN     NaN   \n",
       "2       A       A      B+  ...     NaN     NaN     NaN     NaN      B-   \n",
       "3       B      B+      B-  ...     NaN     NaN     NaN     NaN     NaN   \n",
       "4      A-       A       A  ...     NaN     NaN     NaN     NaN       A   \n",
       "\n",
       "  CMSC425 CMSC472 CMSC473 CMSC474  CMSC475  \n",
       "0     NaN     NaN     NaN     NaN      NaN  \n",
       "1     NaN     NaN     NaN     NaN      NaN  \n",
       "2     NaN     NaN     NaN     NaN      NaN  \n",
       "3     NaN     NaN     NaN     NaN      NaN  \n",
       "4     NaN     NaN     NaN     NaN      NaN  \n",
       "\n",
       "[5 rows x 47 columns]"
      ]
     },
     "execution_count": 4,
     "metadata": {},
     "output_type": "execute_result"
    }
   ],
   "source": [
    "df.head()"
   ]
  },
  {
   "cell_type": "code",
   "execution_count": 5,
   "metadata": {},
   "outputs": [],
   "source": [
    "df = df.replace(\"Don't want to share\", \"Not Attempted\")"
   ]
  },
  {
   "cell_type": "code",
   "execution_count": 6,
   "metadata": {},
   "outputs": [],
   "source": [
    "def replace_not_attempted(df, grade):\n",
    "    return df.replace('Not Attempted', grade)"
   ]
  },
  {
   "cell_type": "code",
   "execution_count": 7,
   "metadata": {},
   "outputs": [],
   "source": [
    "df2 = df[[\"Users\", \"CMSC131\", \"CMSC132\", \"CMSC216\", \"CMSC250\"]]"
   ]
  },
  {
   "cell_type": "code",
   "execution_count": 8,
   "metadata": {},
   "outputs": [],
   "source": [
    "df_cs_Aplus = replace_not_attempted(df2, 'A+')\n",
    "df_cs_A = replace_not_attempted(df2, 'A')\n",
    "df_cs_Aminus = replace_not_attempted(df2, 'A-')\n",
    "df_cs_Bplus = replace_not_attempted(df2, 'B+')\n",
    "df_cs_B = replace_not_attempted(df2, 'B')\n",
    "df_cs_Bminus = replace_not_attempted(df2, 'B-')"
   ]
  },
  {
   "cell_type": "code",
   "execution_count": 9,
   "metadata": {},
   "outputs": [],
   "source": [
    "df3 = df[[\"Users\", \"MATH140\", \"MATH141\", \"MATH240\", \"MATH241\", \"STAT400\"]]"
   ]
  },
  {
   "cell_type": "code",
   "execution_count": 10,
   "metadata": {},
   "outputs": [],
   "source": [
    "df_math_Aplus = replace_not_attempted(df3, 'A+')\n",
    "df_math_A = replace_not_attempted(df3, 'A')\n",
    "df_math_Aminus = replace_not_attempted(df3, 'A-')\n",
    "df_math_Bplus = replace_not_attempted(df3, 'B+')\n",
    "df_math_B = replace_not_attempted(df3, 'B')\n",
    "df_math_Bminus = replace_not_attempted(df3, 'B-')"
   ]
  },
  {
   "cell_type": "code",
   "execution_count": 11,
   "metadata": {},
   "outputs": [],
   "source": [
    "df_upper = df[[\"Users\", \"CMSC330\", \"CMSC351\", \"CMSC411\", \"CMSC412\", \"CMSC414\", \"CMSC416\", \"CMSC417\", \"CMSC420\", \"CMSC421\",\n",
    "              \"CMSC422\", \"CMSC423\", \"CMSC424\", \"CMSC426\", \"CMSC427\", \"CMSC470\", \"CMSC430\", \"CMSC433\", \"CMSC434\", \"CMSC435\", \"CMSC436\", \n",
    "              \"CMSC451\", \"CMSC452\", \"CMSC454\", \"CMSC456\", \"CMSC457\", \"CMSC460\", \"CMSC466\", \"CMSC320\", \"CMSC425\", \"CMSC472\", \n",
    "              \"CMSC473\", \"CMSC474\", \"CMSC475\"]]"
   ]
  },
  {
   "cell_type": "code",
   "execution_count": 12,
   "metadata": {},
   "outputs": [],
   "source": [
    "df_upper = df_upper.replace(\"Not Attempted\", np.NaN)"
   ]
  },
  {
   "cell_type": "code",
   "execution_count": 13,
   "metadata": {},
   "outputs": [],
   "source": [
    "def merger(df, df_cs, df_math, df_upper):\n",
    "    df = df[[\"Users\", \"CS_Track\", \"CMSC4XX\", \"Graduated\"]]\n",
    "    df_temp = df.merge(df_math, on = \"Users\")\n",
    "    df_temp = df_temp.merge(df_cs, on = \"Users\")\n",
    "    return df_temp.merge(df_upper, on = \"Users\")"
   ]
  },
  {
   "cell_type": "code",
   "execution_count": 14,
   "metadata": {},
   "outputs": [
    {
     "data": {
      "text/html": [
       "<div>\n",
       "<style scoped>\n",
       "    .dataframe tbody tr th:only-of-type {\n",
       "        vertical-align: middle;\n",
       "    }\n",
       "\n",
       "    .dataframe tbody tr th {\n",
       "        vertical-align: top;\n",
       "    }\n",
       "\n",
       "    .dataframe thead th {\n",
       "        text-align: right;\n",
       "    }\n",
       "</style>\n",
       "<table border=\"1\" class=\"dataframe\">\n",
       "  <thead>\n",
       "    <tr style=\"text-align: right;\">\n",
       "      <th></th>\n",
       "      <th>Users</th>\n",
       "      <th>CS_Track</th>\n",
       "      <th>CMSC4XX</th>\n",
       "      <th>Graduated</th>\n",
       "      <th>MATH140</th>\n",
       "      <th>MATH141</th>\n",
       "      <th>MATH240</th>\n",
       "      <th>MATH241</th>\n",
       "      <th>STAT400</th>\n",
       "      <th>CMSC131</th>\n",
       "      <th>...</th>\n",
       "      <th>CMSC456</th>\n",
       "      <th>CMSC457</th>\n",
       "      <th>CMSC460</th>\n",
       "      <th>CMSC466</th>\n",
       "      <th>CMSC320</th>\n",
       "      <th>CMSC425</th>\n",
       "      <th>CMSC472</th>\n",
       "      <th>CMSC473</th>\n",
       "      <th>CMSC474</th>\n",
       "      <th>CMSC475</th>\n",
       "    </tr>\n",
       "  </thead>\n",
       "  <tbody>\n",
       "    <tr>\n",
       "      <td>0</td>\n",
       "      <td>User0</td>\n",
       "      <td>General</td>\n",
       "      <td>Yes</td>\n",
       "      <td>Not Completed</td>\n",
       "      <td>A</td>\n",
       "      <td>A</td>\n",
       "      <td>A</td>\n",
       "      <td>A</td>\n",
       "      <td>A</td>\n",
       "      <td>A</td>\n",
       "      <td>...</td>\n",
       "      <td>NaN</td>\n",
       "      <td>NaN</td>\n",
       "      <td>NaN</td>\n",
       "      <td>NaN</td>\n",
       "      <td>A</td>\n",
       "      <td>NaN</td>\n",
       "      <td>NaN</td>\n",
       "      <td>NaN</td>\n",
       "      <td>NaN</td>\n",
       "      <td>NaN</td>\n",
       "    </tr>\n",
       "    <tr>\n",
       "      <td>1</td>\n",
       "      <td>User1</td>\n",
       "      <td>General</td>\n",
       "      <td>No</td>\n",
       "      <td>NaN</td>\n",
       "      <td>A</td>\n",
       "      <td>A</td>\n",
       "      <td>A</td>\n",
       "      <td>A</td>\n",
       "      <td>A+</td>\n",
       "      <td>A</td>\n",
       "      <td>...</td>\n",
       "      <td>NaN</td>\n",
       "      <td>NaN</td>\n",
       "      <td>NaN</td>\n",
       "      <td>NaN</td>\n",
       "      <td>NaN</td>\n",
       "      <td>NaN</td>\n",
       "      <td>NaN</td>\n",
       "      <td>NaN</td>\n",
       "      <td>NaN</td>\n",
       "      <td>NaN</td>\n",
       "    </tr>\n",
       "    <tr>\n",
       "      <td>2</td>\n",
       "      <td>User2</td>\n",
       "      <td>General</td>\n",
       "      <td>Yes</td>\n",
       "      <td>Not Completed</td>\n",
       "      <td>A</td>\n",
       "      <td>A</td>\n",
       "      <td>A</td>\n",
       "      <td>A</td>\n",
       "      <td>B+</td>\n",
       "      <td>B</td>\n",
       "      <td>...</td>\n",
       "      <td>NaN</td>\n",
       "      <td>NaN</td>\n",
       "      <td>NaN</td>\n",
       "      <td>NaN</td>\n",
       "      <td>B-</td>\n",
       "      <td>NaN</td>\n",
       "      <td>NaN</td>\n",
       "      <td>NaN</td>\n",
       "      <td>NaN</td>\n",
       "      <td>NaN</td>\n",
       "    </tr>\n",
       "    <tr>\n",
       "      <td>3</td>\n",
       "      <td>User3</td>\n",
       "      <td>Data Science</td>\n",
       "      <td>Yes</td>\n",
       "      <td>Not Completed</td>\n",
       "      <td>A</td>\n",
       "      <td>A</td>\n",
       "      <td>B</td>\n",
       "      <td>B+</td>\n",
       "      <td>B-</td>\n",
       "      <td>A</td>\n",
       "      <td>...</td>\n",
       "      <td>NaN</td>\n",
       "      <td>NaN</td>\n",
       "      <td>NaN</td>\n",
       "      <td>NaN</td>\n",
       "      <td>NaN</td>\n",
       "      <td>NaN</td>\n",
       "      <td>NaN</td>\n",
       "      <td>NaN</td>\n",
       "      <td>NaN</td>\n",
       "      <td>NaN</td>\n",
       "    </tr>\n",
       "    <tr>\n",
       "      <td>4</td>\n",
       "      <td>User4</td>\n",
       "      <td>General</td>\n",
       "      <td>Yes</td>\n",
       "      <td>Not Completed</td>\n",
       "      <td>A</td>\n",
       "      <td>A+</td>\n",
       "      <td>A-</td>\n",
       "      <td>A</td>\n",
       "      <td>A</td>\n",
       "      <td>A</td>\n",
       "      <td>...</td>\n",
       "      <td>NaN</td>\n",
       "      <td>NaN</td>\n",
       "      <td>NaN</td>\n",
       "      <td>NaN</td>\n",
       "      <td>A</td>\n",
       "      <td>NaN</td>\n",
       "      <td>NaN</td>\n",
       "      <td>NaN</td>\n",
       "      <td>NaN</td>\n",
       "      <td>NaN</td>\n",
       "    </tr>\n",
       "    <tr>\n",
       "      <td>...</td>\n",
       "      <td>...</td>\n",
       "      <td>...</td>\n",
       "      <td>...</td>\n",
       "      <td>...</td>\n",
       "      <td>...</td>\n",
       "      <td>...</td>\n",
       "      <td>...</td>\n",
       "      <td>...</td>\n",
       "      <td>...</td>\n",
       "      <td>...</td>\n",
       "      <td>...</td>\n",
       "      <td>...</td>\n",
       "      <td>...</td>\n",
       "      <td>...</td>\n",
       "      <td>...</td>\n",
       "      <td>...</td>\n",
       "      <td>...</td>\n",
       "      <td>...</td>\n",
       "      <td>...</td>\n",
       "      <td>...</td>\n",
       "      <td>...</td>\n",
       "    </tr>\n",
       "    <tr>\n",
       "      <td>160</td>\n",
       "      <td>User160</td>\n",
       "      <td>General</td>\n",
       "      <td>No</td>\n",
       "      <td>NaN</td>\n",
       "      <td>A</td>\n",
       "      <td>A</td>\n",
       "      <td>B+</td>\n",
       "      <td>A</td>\n",
       "      <td>A+</td>\n",
       "      <td>B-</td>\n",
       "      <td>...</td>\n",
       "      <td>NaN</td>\n",
       "      <td>NaN</td>\n",
       "      <td>NaN</td>\n",
       "      <td>NaN</td>\n",
       "      <td>NaN</td>\n",
       "      <td>NaN</td>\n",
       "      <td>NaN</td>\n",
       "      <td>NaN</td>\n",
       "      <td>NaN</td>\n",
       "      <td>NaN</td>\n",
       "    </tr>\n",
       "    <tr>\n",
       "      <td>161</td>\n",
       "      <td>User161</td>\n",
       "      <td>General</td>\n",
       "      <td>Yes</td>\n",
       "      <td>Not Completed</td>\n",
       "      <td>A</td>\n",
       "      <td>A</td>\n",
       "      <td>A</td>\n",
       "      <td>A</td>\n",
       "      <td>A</td>\n",
       "      <td>A</td>\n",
       "      <td>...</td>\n",
       "      <td>NaN</td>\n",
       "      <td>NaN</td>\n",
       "      <td>NaN</td>\n",
       "      <td>NaN</td>\n",
       "      <td>A+</td>\n",
       "      <td>NaN</td>\n",
       "      <td>NaN</td>\n",
       "      <td>NaN</td>\n",
       "      <td>NaN</td>\n",
       "      <td>NaN</td>\n",
       "    </tr>\n",
       "    <tr>\n",
       "      <td>162</td>\n",
       "      <td>User162</td>\n",
       "      <td>Machine Learning</td>\n",
       "      <td>Yes</td>\n",
       "      <td>Not Completed</td>\n",
       "      <td>A</td>\n",
       "      <td>A</td>\n",
       "      <td>A</td>\n",
       "      <td>A</td>\n",
       "      <td>A</td>\n",
       "      <td>B</td>\n",
       "      <td>...</td>\n",
       "      <td>NaN</td>\n",
       "      <td>NaN</td>\n",
       "      <td>NaN</td>\n",
       "      <td>NaN</td>\n",
       "      <td>A</td>\n",
       "      <td>NaN</td>\n",
       "      <td>NaN</td>\n",
       "      <td>NaN</td>\n",
       "      <td>NaN</td>\n",
       "      <td>NaN</td>\n",
       "    </tr>\n",
       "    <tr>\n",
       "      <td>163</td>\n",
       "      <td>User163</td>\n",
       "      <td>General</td>\n",
       "      <td>Yes</td>\n",
       "      <td>Not Completed</td>\n",
       "      <td>A+</td>\n",
       "      <td>A+</td>\n",
       "      <td>B</td>\n",
       "      <td>A</td>\n",
       "      <td>B</td>\n",
       "      <td>A+</td>\n",
       "      <td>...</td>\n",
       "      <td>NaN</td>\n",
       "      <td>NaN</td>\n",
       "      <td>NaN</td>\n",
       "      <td>NaN</td>\n",
       "      <td>A+</td>\n",
       "      <td>A</td>\n",
       "      <td>NaN</td>\n",
       "      <td>NaN</td>\n",
       "      <td>NaN</td>\n",
       "      <td>NaN</td>\n",
       "    </tr>\n",
       "    <tr>\n",
       "      <td>164</td>\n",
       "      <td>User164</td>\n",
       "      <td>General</td>\n",
       "      <td>No</td>\n",
       "      <td>NaN</td>\n",
       "      <td>A</td>\n",
       "      <td>A</td>\n",
       "      <td>A</td>\n",
       "      <td>A</td>\n",
       "      <td>A</td>\n",
       "      <td>C-</td>\n",
       "      <td>...</td>\n",
       "      <td>NaN</td>\n",
       "      <td>NaN</td>\n",
       "      <td>NaN</td>\n",
       "      <td>NaN</td>\n",
       "      <td>NaN</td>\n",
       "      <td>NaN</td>\n",
       "      <td>NaN</td>\n",
       "      <td>NaN</td>\n",
       "      <td>NaN</td>\n",
       "      <td>NaN</td>\n",
       "    </tr>\n",
       "  </tbody>\n",
       "</table>\n",
       "<p>165 rows × 46 columns</p>\n",
       "</div>"
      ],
      "text/plain": [
       "       Users          CS_Track CMSC4XX      Graduated MATH140 MATH141 MATH240  \\\n",
       "0      User0           General     Yes  Not Completed       A       A       A   \n",
       "1      User1           General      No            NaN       A       A       A   \n",
       "2      User2           General     Yes  Not Completed       A       A       A   \n",
       "3      User3      Data Science     Yes  Not Completed       A       A       B   \n",
       "4      User4           General     Yes  Not Completed       A      A+      A-   \n",
       "..       ...               ...     ...            ...     ...     ...     ...   \n",
       "160  User160           General      No            NaN       A       A      B+   \n",
       "161  User161           General     Yes  Not Completed       A       A       A   \n",
       "162  User162  Machine Learning     Yes  Not Completed       A       A       A   \n",
       "163  User163           General     Yes  Not Completed      A+      A+       B   \n",
       "164  User164           General      No            NaN       A       A       A   \n",
       "\n",
       "    MATH241 STAT400 CMSC131  ... CMSC456 CMSC457 CMSC460 CMSC466 CMSC320  \\\n",
       "0         A       A       A  ...     NaN     NaN     NaN     NaN       A   \n",
       "1         A      A+       A  ...     NaN     NaN     NaN     NaN     NaN   \n",
       "2         A      B+       B  ...     NaN     NaN     NaN     NaN      B-   \n",
       "3        B+      B-       A  ...     NaN     NaN     NaN     NaN     NaN   \n",
       "4         A       A       A  ...     NaN     NaN     NaN     NaN       A   \n",
       "..      ...     ...     ...  ...     ...     ...     ...     ...     ...   \n",
       "160       A      A+      B-  ...     NaN     NaN     NaN     NaN     NaN   \n",
       "161       A       A       A  ...     NaN     NaN     NaN     NaN      A+   \n",
       "162       A       A       B  ...     NaN     NaN     NaN     NaN       A   \n",
       "163       A       B      A+  ...     NaN     NaN     NaN     NaN      A+   \n",
       "164       A       A      C-  ...     NaN     NaN     NaN     NaN     NaN   \n",
       "\n",
       "    CMSC425 CMSC472 CMSC473  CMSC474 CMSC475  \n",
       "0       NaN     NaN     NaN      NaN     NaN  \n",
       "1       NaN     NaN     NaN      NaN     NaN  \n",
       "2       NaN     NaN     NaN      NaN     NaN  \n",
       "3       NaN     NaN     NaN      NaN     NaN  \n",
       "4       NaN     NaN     NaN      NaN     NaN  \n",
       "..      ...     ...     ...      ...     ...  \n",
       "160     NaN     NaN     NaN      NaN     NaN  \n",
       "161     NaN     NaN     NaN      NaN     NaN  \n",
       "162     NaN     NaN     NaN      NaN     NaN  \n",
       "163       A     NaN     NaN      NaN     NaN  \n",
       "164     NaN     NaN     NaN      NaN     NaN  \n",
       "\n",
       "[165 rows x 46 columns]"
      ]
     },
     "execution_count": 14,
     "metadata": {},
     "output_type": "execute_result"
    }
   ],
   "source": [
    "df = merger(df, df_cs_A, df_math_A, df_upper)\n",
    "df"
   ]
  },
  {
   "cell_type": "code",
   "execution_count": 15,
   "metadata": {},
   "outputs": [
    {
     "data": {
      "image/png": "[encoded data removed]",
      "text/plain": [
       "<Figure size 432x288 with 1 Axes>"
      ]
     },
     "metadata": {
      "needs_background": "light"
     },
     "output_type": "display_data"
    },
    {
     "data": {
      "image/png": "[encoded data removed]",
      "text/plain": [
       "<Figure size 432x288 with 1 Axes>"
      ]
     },
     "metadata": {
      "needs_background": "light"
     },
     "output_type": "display_data"
    },
    {
     "data": {
      "image/png": "[encoded data removed]",
      "text/plain": [
       "<Figure size 432x288 with 1 Axes>"
      ]
     },
     "metadata": {
      "needs_background": "light"
     },
     "output_type": "display_data"
    },
    {
     "data": {
      "image/png": "[encoded data removed]",
      "text/plain": [
       "<Figure size 432x288 with 1 Axes>"
      ]
     },
     "metadata": {
      "needs_background": "light"
     },
     "output_type": "display_data"
    }
   ],
   "source": [
    "MATH140 = df['MATH140'].value_counts()\n",
    "sns.barplot(MATH140.index, MATH140.values)\n",
    "plt.title(\"MATH140 Grade Distribution\")\n",
    "plt.xlabel(\"Grade\")\n",
    "plt.ylabel(\"Frequency\")\n",
    "plt.show()\n",
    "MATH141 = df['MATH141'].value_counts()\n",
    "sns.barplot(MATH141.index, MATH141.values)\n",
    "plt.title(\"MATH140 Grade Distribution\")\n",
    "plt.xlabel(\"Grade\")\n",
    "plt.ylabel(\"Frequency\")\n",
    "plt.show()\n",
    "CMSC131 = df['CMSC131'].value_counts()\n",
    "sns.barplot(CMSC131.index, CMSC131.values)\n",
    "plt.title(\"CMSC131 Grade Distribution\")\n",
    "plt.xlabel(\"Grade\")\n",
    "plt.ylabel(\"Frequency\")\n",
    "plt.show()\n",
    "CMSC132 = df['CMSC132'].value_counts()\n",
    "sns.barplot(CMSC132.index, CMSC132.values)\n",
    "plt.title(\"CMSC132 Grade Distribution\")\n",
    "plt.xlabel(\"Grade\")\n",
    "plt.ylabel(\"Frequency\")\n",
    "plt.show()\n"
   ]
  },
  {
   "cell_type": "code",
   "execution_count": 16,
   "metadata": {},
   "outputs": [
    {
     "data": {
      "image/png": "[encoded data removed]",
      "text/plain": [
       "<Figure size 432x288 with 1 Axes>"
      ]
     },
     "metadata": {
      "needs_background": "light"
     },
     "output_type": "display_data"
    },
    {
     "data": {
      "image/png": "[encoded data removed]",
      "text/plain": [
       "<Figure size 432x288 with 1 Axes>"
      ]
     },
     "metadata": {
      "needs_background": "light"
     },
     "output_type": "display_data"
    },
    {
     "data": {
      "image/png": "[encoded data removed]",
      "text/plain": [
       "<Figure size 432x288 with 1 Axes>"
      ]
     },
     "metadata": {
      "needs_background": "light"
     },
     "output_type": "display_data"
    },
    {
     "data": {
      "image/png": "[encoded data removed]",
      "text/plain": [
       "<Figure size 432x288 with 1 Axes>"
      ]
     },
     "metadata": {
      "needs_background": "light"
     },
     "output_type": "display_data"
    }
   ],
   "source": [
    "CMSC216 = df['CMSC216'].value_counts()\n",
    "sns.barplot(CMSC216.index, CMSC216.values)\n",
    "plt.title(\"CMSC216 Grade Distribution\")\n",
    "plt.xlabel(\"Grade\")\n",
    "plt.ylabel(\"Frequency\")\n",
    "plt.show()\n",
    "CMSC250 = df['CMSC250'].value_counts()\n",
    "sns.barplot(CMSC250.index, CMSC250.values)\n",
    "plt.title(\"CMSC250 Grade Distribution\")\n",
    "plt.xlabel(\"Grade\")\n",
    "plt.ylabel(\"Frequency\")\n",
    "plt.show()\n",
    "CMSC330 = df['CMSC330'].value_counts()\n",
    "sns.barplot(CMSC216.index, CMSC216.values)\n",
    "plt.title(\"CMSC330 Grade Distribution\")\n",
    "plt.xlabel(\"Grade\")\n",
    "plt.ylabel(\"Frequency\")\n",
    "plt.show()\n",
    "CMSC351 = df['CMSC351'].value_counts()\n",
    "sns.barplot(CMSC250.index, CMSC250.values)\n",
    "plt.title(\"CMSC351 Grade Distribution\")\n",
    "plt.xlabel(\"Grade\")\n",
    "plt.ylabel(\"Frequency\")\n",
    "plt.show()"
   ]
  },
  {
   "cell_type": "code",
   "execution_count": 17,
   "metadata": {},
   "outputs": [
    {
     "data": {
      "text/plain": [
       "Text(0, 0.5, 'Frequency')"
      ]
     },
     "execution_count": 17,
     "metadata": {},
     "output_type": "execute_result"
    },
    {
     "data": {
      "image/png": "[encoded data removed]",
      "text/plain": [
       "<Figure size 432x288 with 1 Axes>"
      ]
     },
     "metadata": {
      "needs_background": "light"
     },
     "output_type": "display_data"
    }
   ],
   "source": [
    "CMSC131 = df['CMSC131'].value_counts()\n",
    "sns.barplot(CMSC131.index, CMSC131.values)\n",
    "#plt.subplot(1,2,1)\n",
    "plt.title(\"CMSC131 Grade Distribution\")\n",
    "plt.xlabel(\"Grade\")\n",
    "plt.ylabel(\"Frequency\")"
   ]
  },
  {
   "cell_type": "code",
   "execution_count": 18,
   "metadata": {},
   "outputs": [],
   "source": [
    "MATH140 = pd.DataFrame({'grade':MATH140.index, 'MATH140Freq':MATH140.values})\n",
    "MATH141 = pd.DataFrame({'grade':MATH141.index, 'MATH141Freq':MATH141.values})\n",
    "CMSC131 = pd.DataFrame({'grade':CMSC131.index, 'CMSC131Freq':CMSC131.values})\n",
    "CMSC132 = pd.DataFrame({'grade':CMSC132.index, 'CMSC132Freq':CMSC132.values})\n",
    "CMSC216 = pd.DataFrame({'grade':CMSC216.index, 'CMSC216Freq':CMSC216.values})\n",
    "CMSC250 = pd.DataFrame({'grade':CMSC250.index, 'CMSC250Freq':CMSC250.values})\n",
    "CMSC330 = pd.DataFrame({'grade':CMSC330.index, 'CMSC330Freq':CMSC330.values})\n",
    "CMSC351 = pd.DataFrame({'grade':CMSC351.index, 'CMSC351Freq':CMSC351.values})"
   ]
  },
  {
   "cell_type": "code",
   "execution_count": 19,
   "metadata": {},
   "outputs": [
    {
     "data": {
      "text/html": [
       "<div>\n",
       "<style scoped>\n",
       "    .dataframe tbody tr th:only-of-type {\n",
       "        vertical-align: middle;\n",
       "    }\n",
       "\n",
       "    .dataframe tbody tr th {\n",
       "        vertical-align: top;\n",
       "    }\n",
       "\n",
       "    .dataframe thead th {\n",
       "        text-align: right;\n",
       "    }\n",
       "</style>\n",
       "<table border=\"1\" class=\"dataframe\">\n",
       "  <thead>\n",
       "    <tr style=\"text-align: right;\">\n",
       "      <th></th>\n",
       "      <th>grade</th>\n",
       "      <th>CMSC330Freq</th>\n",
       "    </tr>\n",
       "  </thead>\n",
       "  <tbody>\n",
       "    <tr>\n",
       "      <td>0</td>\n",
       "      <td>A</td>\n",
       "      <td>33</td>\n",
       "    </tr>\n",
       "    <tr>\n",
       "      <td>1</td>\n",
       "      <td>A-</td>\n",
       "      <td>22</td>\n",
       "    </tr>\n",
       "    <tr>\n",
       "      <td>2</td>\n",
       "      <td>A+</td>\n",
       "      <td>21</td>\n",
       "    </tr>\n",
       "    <tr>\n",
       "      <td>3</td>\n",
       "      <td>B+</td>\n",
       "      <td>19</td>\n",
       "    </tr>\n",
       "    <tr>\n",
       "      <td>4</td>\n",
       "      <td>B</td>\n",
       "      <td>14</td>\n",
       "    </tr>\n",
       "    <tr>\n",
       "      <td>5</td>\n",
       "      <td>C+</td>\n",
       "      <td>4</td>\n",
       "    </tr>\n",
       "    <tr>\n",
       "      <td>6</td>\n",
       "      <td>B-</td>\n",
       "      <td>4</td>\n",
       "    </tr>\n",
       "    <tr>\n",
       "      <td>7</td>\n",
       "      <td>C</td>\n",
       "      <td>3</td>\n",
       "    </tr>\n",
       "    <tr>\n",
       "      <td>8</td>\n",
       "      <td>C-</td>\n",
       "      <td>2</td>\n",
       "    </tr>\n",
       "    <tr>\n",
       "      <td>9</td>\n",
       "      <td>D+</td>\n",
       "      <td>1</td>\n",
       "    </tr>\n",
       "  </tbody>\n",
       "</table>\n",
       "</div>"
      ],
      "text/plain": [
       "  grade  CMSC330Freq\n",
       "0     A           33\n",
       "1    A-           22\n",
       "2    A+           21\n",
       "3    B+           19\n",
       "4     B           14\n",
       "5    C+            4\n",
       "6    B-            4\n",
       "7     C            3\n",
       "8    C-            2\n",
       "9    D+            1"
      ]
     },
     "execution_count": 19,
     "metadata": {},
     "output_type": "execute_result"
    }
   ],
   "source": [
    "CMSC250\n",
    "CMSC351\n",
    "CMSC330"
   ]
  },
  {
   "cell_type": "code",
   "execution_count": 20,
   "metadata": {},
   "outputs": [],
   "source": [
    "merged = pd.merge(MATH140, MATH141, on=\"grade\")\n",
    "merged = pd.merge(merged, CMSC131, on=\"grade\")\n",
    "merged = pd.merge(merged, CMSC132, on=\"grade\")\n",
    "merged = pd.merge(merged, CMSC216, on=\"grade\")\n",
    "merged = pd.merge(merged, CMSC250, on=\"grade\")\n",
    "merged = pd.merge(merged, CMSC330, on=\"grade\")\n",
    "merged = pd.merge(merged, CMSC351, on=\"grade\")"
   ]
  },
  {
   "cell_type": "code",
   "execution_count": 21,
   "metadata": {},
   "outputs": [
    {
     "data": {
      "text/html": [
       "<div>\n",
       "<style scoped>\n",
       "    .dataframe tbody tr th:only-of-type {\n",
       "        vertical-align: middle;\n",
       "    }\n",
       "\n",
       "    .dataframe tbody tr th {\n",
       "        vertical-align: top;\n",
       "    }\n",
       "\n",
       "    .dataframe thead th {\n",
       "        text-align: right;\n",
       "    }\n",
       "</style>\n",
       "<table border=\"1\" class=\"dataframe\">\n",
       "  <thead>\n",
       "    <tr style=\"text-align: right;\">\n",
       "      <th></th>\n",
       "      <th>grade</th>\n",
       "      <th>MATH140Freq</th>\n",
       "      <th>MATH141Freq</th>\n",
       "      <th>CMSC131Freq</th>\n",
       "      <th>CMSC132Freq</th>\n",
       "      <th>CMSC216Freq</th>\n",
       "      <th>CMSC250Freq</th>\n",
       "      <th>CMSC330Freq</th>\n",
       "      <th>CMSC351Freq</th>\n",
       "    </tr>\n",
       "  </thead>\n",
       "  <tbody>\n",
       "    <tr>\n",
       "      <td>0</td>\n",
       "      <td>A</td>\n",
       "      <td>117</td>\n",
       "      <td>102</td>\n",
       "      <td>78</td>\n",
       "      <td>57</td>\n",
       "      <td>63</td>\n",
       "      <td>64</td>\n",
       "      <td>33</td>\n",
       "      <td>27</td>\n",
       "    </tr>\n",
       "    <tr>\n",
       "      <td>1</td>\n",
       "      <td>A+</td>\n",
       "      <td>26</td>\n",
       "      <td>22</td>\n",
       "      <td>38</td>\n",
       "      <td>29</td>\n",
       "      <td>26</td>\n",
       "      <td>12</td>\n",
       "      <td>21</td>\n",
       "      <td>11</td>\n",
       "    </tr>\n",
       "    <tr>\n",
       "      <td>2</td>\n",
       "      <td>B</td>\n",
       "      <td>9</td>\n",
       "      <td>10</td>\n",
       "      <td>16</td>\n",
       "      <td>17</td>\n",
       "      <td>20</td>\n",
       "      <td>20</td>\n",
       "      <td>14</td>\n",
       "      <td>18</td>\n",
       "    </tr>\n",
       "    <tr>\n",
       "      <td>3</td>\n",
       "      <td>B+</td>\n",
       "      <td>6</td>\n",
       "      <td>5</td>\n",
       "      <td>15</td>\n",
       "      <td>21</td>\n",
       "      <td>13</td>\n",
       "      <td>29</td>\n",
       "      <td>19</td>\n",
       "      <td>17</td>\n",
       "    </tr>\n",
       "    <tr>\n",
       "      <td>4</td>\n",
       "      <td>A-</td>\n",
       "      <td>3</td>\n",
       "      <td>12</td>\n",
       "      <td>10</td>\n",
       "      <td>20</td>\n",
       "      <td>12</td>\n",
       "      <td>14</td>\n",
       "      <td>22</td>\n",
       "      <td>11</td>\n",
       "    </tr>\n",
       "    <tr>\n",
       "      <td>5</td>\n",
       "      <td>C+</td>\n",
       "      <td>2</td>\n",
       "      <td>6</td>\n",
       "      <td>2</td>\n",
       "      <td>7</td>\n",
       "      <td>9</td>\n",
       "      <td>7</td>\n",
       "      <td>4</td>\n",
       "      <td>13</td>\n",
       "    </tr>\n",
       "    <tr>\n",
       "      <td>6</td>\n",
       "      <td>B-</td>\n",
       "      <td>1</td>\n",
       "      <td>7</td>\n",
       "      <td>3</td>\n",
       "      <td>6</td>\n",
       "      <td>10</td>\n",
       "      <td>10</td>\n",
       "      <td>4</td>\n",
       "      <td>6</td>\n",
       "    </tr>\n",
       "    <tr>\n",
       "      <td>7</td>\n",
       "      <td>C</td>\n",
       "      <td>1</td>\n",
       "      <td>1</td>\n",
       "      <td>2</td>\n",
       "      <td>4</td>\n",
       "      <td>9</td>\n",
       "      <td>6</td>\n",
       "      <td>3</td>\n",
       "      <td>8</td>\n",
       "    </tr>\n",
       "  </tbody>\n",
       "</table>\n",
       "</div>"
      ],
      "text/plain": [
       "  grade  MATH140Freq  MATH141Freq  CMSC131Freq  CMSC132Freq  CMSC216Freq  \\\n",
       "0     A          117          102           78           57           63   \n",
       "1    A+           26           22           38           29           26   \n",
       "2     B            9           10           16           17           20   \n",
       "3    B+            6            5           15           21           13   \n",
       "4    A-            3           12           10           20           12   \n",
       "5    C+            2            6            2            7            9   \n",
       "6    B-            1            7            3            6           10   \n",
       "7     C            1            1            2            4            9   \n",
       "\n",
       "   CMSC250Freq  CMSC330Freq  CMSC351Freq  \n",
       "0           64           33           27  \n",
       "1           12           21           11  \n",
       "2           20           14           18  \n",
       "3           29           19           17  \n",
       "4           14           22           11  \n",
       "5            7            4           13  \n",
       "6           10            4            6  \n",
       "7            6            3            8  "
      ]
     },
     "execution_count": 21,
     "metadata": {},
     "output_type": "execute_result"
    }
   ],
   "source": [
    "merged"
   ]
  },
  {
   "cell_type": "code",
   "execution_count": 22,
   "metadata": {},
   "outputs": [
    {
     "data": {
      "image/png": "[encoded data removed]",
      "text/plain": [
       "<Figure size 432x288 with 1 Axes>"
      ]
     },
     "metadata": {
      "needs_background": "light"
     },
     "output_type": "display_data"
    }
   ],
   "source": [
    "ax = sns.regplot(x='MATH140Freq', y=\"MATH141Freq\", data=merged)"
   ]
  },
  {
   "cell_type": "code",
   "execution_count": 23,
   "metadata": {},
   "outputs": [
    {
     "data": {
      "image/png": "[encoded data removed]",
      "text/plain": [
       "<Figure size 432x288 with 1 Axes>"
      ]
     },
     "metadata": {
      "needs_background": "light"
     },
     "output_type": "display_data"
    }
   ],
   "source": [
    "ax = sns.regplot(x='MATH140Freq', y=\"CMSC131Freq\", data=merged)"
   ]
  },
  {
   "cell_type": "code",
   "execution_count": 24,
   "metadata": {},
   "outputs": [
    {
     "data": {
      "image/png": "[encoded data removed]",
      "text/plain": [
       "<Figure size 432x288 with 1 Axes>"
      ]
     },
     "metadata": {
      "needs_background": "light"
     },
     "output_type": "display_data"
    }
   ],
   "source": [
    "ax = sns.regplot(x='MATH140Freq', y=\"CMSC132Freq\", data=merged)"
   ]
  },
  {
   "cell_type": "code",
   "execution_count": 25,
   "metadata": {},
   "outputs": [
    {
     "data": {
      "image/png": "[encoded data removed]",
      "text/plain": [
       "<Figure size 432x288 with 1 Axes>"
      ]
     },
     "metadata": {
      "needs_background": "light"
     },
     "output_type": "display_data"
    }
   ],
   "source": [
    "ax = sns.regplot(x='CMSC131Freq', y=\"CMSC132Freq\", data=merged)"
   ]
  },
  {
   "cell_type": "code",
   "execution_count": 26,
   "metadata": {},
   "outputs": [
    {
     "data": {
      "image/png": "[encoded data removed]",
      "text/plain": [
       "<Figure size 432x288 with 1 Axes>"
      ]
     },
     "metadata": {
      "needs_background": "light"
     },
     "output_type": "display_data"
    }
   ],
   "source": [
    "ax = sns.regplot(x='CMSC132Freq', y=\"CMSC216Freq\", data=merged)"
   ]
  },
  {
   "cell_type": "code",
   "execution_count": 27,
   "metadata": {},
   "outputs": [
    {
     "data": {
      "image/png": "[encoded data removed]",
      "text/plain": [
       "<Figure size 432x288 with 1 Axes>"
      ]
     },
     "metadata": {
      "needs_background": "light"
     },
     "output_type": "display_data"
    }
   ],
   "source": [
    "ax = sns.regplot(x='MATH141Freq', y=\"CMSC216Freq\", data=merged)"
   ]
  },
  {
   "cell_type": "code",
   "execution_count": 28,
   "metadata": {},
   "outputs": [
    {
     "data": {
      "image/png": "[encoded data removed]",
      "text/plain": [
       "<Figure size 432x288 with 1 Axes>"
      ]
     },
     "metadata": {
      "needs_background": "light"
     },
     "output_type": "display_data"
    }
   ],
   "source": [
    "ax = sns.regplot(x='MATH141Freq', y=\"CMSC250Freq\", data=merged)"
   ]
  },
  {
   "cell_type": "code",
   "execution_count": 29,
   "metadata": {},
   "outputs": [
    {
     "data": {
      "image/png": "[encoded data removed]",
      "text/plain": [
       "<Figure size 432x288 with 1 Axes>"
      ]
     },
     "metadata": {
      "needs_background": "light"
     },
     "output_type": "display_data"
    }
   ],
   "source": [
    "ax = sns.regplot(x='CMSC131Freq', y=\"CMSC250Freq\", data=merged)"
   ]
  },
  {
   "cell_type": "code",
   "execution_count": 30,
   "metadata": {},
   "outputs": [
    {
     "data": {
      "image/png": "[encoded data removed]",
      "text/plain": [
       "<Figure size 432x288 with 1 Axes>"
      ]
     },
     "metadata": {
      "needs_background": "light"
     },
     "output_type": "display_data"
    }
   ],
   "source": [
    "ax = sns.regplot(x='CMSC250Freq', y=\"CMSC351Freq\", data=merged)"
   ]
  },
  {
   "cell_type": "code",
   "execution_count": 31,
   "metadata": {},
   "outputs": [
    {
     "data": {
      "image/png": "[encoded data removed]",
      "text/plain": [
       "<Figure size 432x288 with 1 Axes>"
      ]
     },
     "metadata": {
      "needs_background": "light"
     },
     "output_type": "display_data"
    }
   ],
   "source": [
    "ax = sns.regplot(x='CMSC216Freq', y=\"CMSC351Freq\", data=merged)"
   ]
  },
  {
   "cell_type": "code",
   "execution_count": 32,
   "metadata": {},
   "outputs": [
    {
     "data": {
      "image/png": "[encoded data removed]",
      "text/plain": [
       "<Figure size 432x288 with 1 Axes>"
      ]
     },
     "metadata": {
      "needs_background": "light"
     },
     "output_type": "display_data"
    }
   ],
   "source": [
    "ax = sns.regplot(x='CMSC250Freq', y=\"CMSC330Freq\", data=merged)"
   ]
  },
  {
   "cell_type": "code",
   "execution_count": 33,
   "metadata": {},
   "outputs": [
    {
     "data": {
      "image/png": "[encoded data removed]",
      "text/plain": [
       "<Figure size 432x288 with 1 Axes>"
      ]
     },
     "metadata": {
      "needs_background": "light"
     },
     "output_type": "display_data"
    }
   ],
   "source": [
    "ax = sns.regplot(x='CMSC216Freq', y=\"CMSC330Freq\", data=merged)"
   ]
  },
  {
   "cell_type": "code",
   "execution_count": 41,
   "metadata": {},
   "outputs": [
    {
     "data": {
      "image/png": "[encoded data removed]",
      "text/plain": [
       "<Figure size 432x288 with 1 Axes>"
      ]
     },
     "metadata": {
      "needs_background": "light"
     },
     "output_type": "display_data"
    }
   ],
   "source": [
    "# AREA 1\n",
    "NaNs_411 = df['CMSC411'].isna().sum()\n",
    "NaNs_412 = df['CMSC412'].isna().sum()\n",
    "NaNs_414 = df['CMSC414'].isna().sum()\n",
    "NaNs_417 = df['CMSC417'].isna().sum()\n",
    "CMSC411_num = 165 - NaNs_411\n",
    "CMSC412_num = 165 - NaNs_412\n",
    "CMSC414_num = 165 - NaNs_414\n",
    "CMSC417_num = 165 - NaNs_417\n",
    "d = {\n",
    "    'Courses':['CMSC411', 'CMSC412', 'CMSC414', 'CMSC417'],\n",
    "    'Number of Students':[CMSC411_num, CMSC412_num, CMSC414_num, CMSC417_num],\n",
    "}\n",
    "area1 = pd.DataFrame(data=d)\n",
    "sns.barplot(x=\"Number of Students\", y=\"Courses\", data=area1)\n",
    "plt.title(\"Area 1\")\n",
    "plt.xlabel(\"Frequency\")\n",
    "plt.ylabel(\"Courses\")\n",
    "plt.show()"
   ]
  },
  {
   "cell_type": "code",
   "execution_count": 42,
   "metadata": {},
   "outputs": [
    {
     "data": {
      "text/html": [
       "<div>\n",
       "<style scoped>\n",
       "    .dataframe tbody tr th:only-of-type {\n",
       "        vertical-align: middle;\n",
       "    }\n",
       "\n",
       "    .dataframe tbody tr th {\n",
       "        vertical-align: top;\n",
       "    }\n",
       "\n",
       "    .dataframe thead th {\n",
       "        text-align: right;\n",
       "    }\n",
       "</style>\n",
       "<table border=\"1\" class=\"dataframe\">\n",
       "  <thead>\n",
       "    <tr style=\"text-align: right;\">\n",
       "      <th></th>\n",
       "      <th>Courses</th>\n",
       "      <th>Number of Students</th>\n",
       "    </tr>\n",
       "  </thead>\n",
       "  <tbody>\n",
       "    <tr>\n",
       "      <td>0</td>\n",
       "      <td>CMSC411</td>\n",
       "      <td>13</td>\n",
       "    </tr>\n",
       "    <tr>\n",
       "      <td>1</td>\n",
       "      <td>CMSC412</td>\n",
       "      <td>2</td>\n",
       "    </tr>\n",
       "    <tr>\n",
       "      <td>2</td>\n",
       "      <td>CMSC414</td>\n",
       "      <td>20</td>\n",
       "    </tr>\n",
       "    <tr>\n",
       "      <td>3</td>\n",
       "      <td>CMSC417</td>\n",
       "      <td>6</td>\n",
       "    </tr>\n",
       "  </tbody>\n",
       "</table>\n",
       "</div>"
      ],
      "text/plain": [
       "   Courses  Number of Students\n",
       "0  CMSC411                  13\n",
       "1  CMSC412                   2\n",
       "2  CMSC414                  20\n",
       "3  CMSC417                   6"
      ]
     },
     "execution_count": 42,
     "metadata": {},
     "output_type": "execute_result"
    }
   ],
   "source": [
    "area1"
   ]
  },
  {
   "cell_type": "code",
   "execution_count": 36,
   "metadata": {},
   "outputs": [
    {
     "data": {
      "image/png": "[encoded data removed]",
      "text/plain": [
       "<Figure size 432x288 with 1 Axes>"
      ]
     },
     "metadata": {
      "needs_background": "light"
     },
     "output_type": "display_data"
    }
   ],
   "source": [
    "# AREA 2\n",
    "NaNs_420 = df['CMSC420'].isna().sum()\n",
    "NaNs_421 = df['CMSC421'].isna().sum()\n",
    "NaNs_422 = df['CMSC422'].isna().sum()\n",
    "NaNs_423 = df['CMSC423'].isna().sum()\n",
    "NaNs_424 = df['CMSC424'].isna().sum()\n",
    "NaNs_426 = df['CMSC426'].isna().sum()\n",
    "NaNs_427 = df['CMSC427'].isna().sum()\n",
    "NaNs_470 = df['CMSC470'].isna().sum()\n",
    "CMSC420_num = 165 - NaNs_420\n",
    "CMSC421_num = 165 - NaNs_421\n",
    "CMSC422_num = 165 - NaNs_422\n",
    "CMSC423_num = 165 - NaNs_423\n",
    "CMSC424_num = 165 - NaNs_424\n",
    "CMSC426_num = 165 - NaNs_426\n",
    "CMSC427_num = 165 - NaNs_427\n",
    "CMSC470_num = 165 - NaNs_470\n",
    "d = {\n",
    "    'Courses':['CMSC420', 'CMSC421', 'CMSC422', 'CMSC423', 'CMSC424', 'CMSC426', 'CMSC427', 'CMSC470'],\n",
    "    'Number of Students':[CMSC420_num, CMSC421_num, CMSC422_num, CMSC423_num, CMSC424_num, CMSC426_num, CMSC427_num, CMSC470_num],\n",
    "}\n",
    "area2 = pd.DataFrame(data=d)\n",
    "sns.barplot(x=\"Number of Students\", y=\"Courses\", data=area2)\n",
    "plt.title(\"Area 2\")\n",
    "plt.xlabel(\"Frequency\")\n",
    "plt.ylabel(\"Courses\")\n",
    "plt.show()"
   ]
  },
  {
   "cell_type": "code",
   "execution_count": 37,
   "metadata": {},
   "outputs": [
    {
     "data": {
      "image/png": "[encoded data removed]",
      "text/plain": [
       "<Figure size 432x288 with 1 Axes>"
      ]
     },
     "metadata": {
      "needs_background": "light"
     },
     "output_type": "display_data"
    }
   ],
   "source": [
    "# AREA 3\n",
    "NaNs_430 = df['CMSC430'].isna().sum()\n",
    "NaNs_433 = df['CMSC433'].isna().sum()\n",
    "NaNs_434 = df['CMSC434'].isna().sum()\n",
    "NaNs_435 = df['CMSC435'].isna().sum()\n",
    "NaNs_436 = df['CMSC436'].isna().sum()\n",
    "CMSC430_num = 165 - NaNs_430\n",
    "CMSC433_num = 165 - NaNs_433\n",
    "CMSC434_num = 165 - NaNs_434\n",
    "CMSC435_num = 165 - NaNs_435\n",
    "CMSC436_num = 165 - NaNs_436\n",
    "d = {\n",
    "    'Courses':['CMSC430', 'CMSC433', 'CMSC434', 'CMSC435', 'CMSC436'],\n",
    "    'Number of Students':[CMSC430_num, CMSC433_num, CMSC434_num, CMSC435_num, CMSC436_num],\n",
    "}\n",
    "area3 = pd.DataFrame(data=d)\n",
    "sns.barplot(x=\"Number of Students\", y=\"Courses\", data=area3)\n",
    "plt.title(\"Area 3\")\n",
    "plt.xlabel(\"Frequency\")\n",
    "plt.ylabel(\"Courses\")\n",
    "plt.show()"
   ]
  },
  {
   "cell_type": "code",
   "execution_count": 38,
   "metadata": {},
   "outputs": [
    {
     "data": {
      "image/png": "[encoded data removed]",
      "text/plain": [
       "<Figure size 432x288 with 1 Axes>"
      ]
     },
     "metadata": {
      "needs_background": "light"
     },
     "output_type": "display_data"
    }
   ],
   "source": [
    "# AREA 4\n",
    "NaNs_451 = df['CMSC451'].isna().sum()\n",
    "NaNs_452 = df['CMSC452'].isna().sum()\n",
    "NaNs_454 = df['CMSC454'].isna().sum()\n",
    "NaNs_456 = df['CMSC456'].isna().sum()\n",
    "NaNs_457 = df['CMSC457'].isna().sum()\n",
    "NaNs_474 = df['CMSC474'].isna().sum()\n",
    "CMSC451_num = 165 - NaNs_451\n",
    "CMSC452_num = 165 - NaNs_452\n",
    "CMSC454_num = 165 - NaNs_454\n",
    "CMSC456_num = 165 - NaNs_456\n",
    "CMSC457_num = 165 - NaNs_457\n",
    "CMSC474_num = 165 - NaNs_474\n",
    "d = {\n",
    "    'Courses':['CMSC451', 'CMSC452', 'CMSC454', 'CMSC456', 'CMSC457', 'CMSC474'],\n",
    "    'Number of Students':[CMSC451_num, CMSC452_num, CMSC454_num, CMSC456_num, CMSC457_num, CMSC474_num],\n",
    "}\n",
    "area4 = pd.DataFrame(data=d)\n",
    "sns.barplot(x=\"Number of Students\", y=\"Courses\", data=area4)\n",
    "plt.title(\"Area 4\")\n",
    "plt.xlabel(\"Frequency\")\n",
    "plt.ylabel(\"Courses\")\n",
    "plt.show()"
   ]
  },
  {
   "cell_type": "code",
   "execution_count": 39,
   "metadata": {},
   "outputs": [
    {
     "data": {
      "image/png": "[encoded data removed]",
      "text/plain": [
       "<Figure size 432x288 with 1 Axes>"
      ]
     },
     "metadata": {
      "needs_background": "light"
     },
     "output_type": "display_data"
    }
   ],
   "source": [
    "# AREA 5\n",
    "NaNs_460 = df['CMSC460'].isna().sum()\n",
    "NaNs_466 = df['CMSC466'].isna().sum()\n",
    "CMSC460_num = 165 - NaNs_460\n",
    "CMSC466_num = 165 - NaNs_466\n",
    "d = {\n",
    "    'Courses':['CMSC460', 'CMSC466'],\n",
    "    'Number of Students':[CMSC460_num, CMSC466_num],\n",
    "}\n",
    "area5 = pd.DataFrame(data=d)\n",
    "sns.barplot(x=\"Number of Students\", y=\"Courses\", data=area5)\n",
    "plt.title(\"Area 5\")\n",
    "plt.xlabel(\"Frequency\")\n",
    "plt.ylabel(\"Courses\")\n",
    "plt.show()"
   ]
  },
  {
   "cell_type": "code",
   "execution_count": 40,
   "metadata": {},
   "outputs": [
    {
     "data": {
      "image/png": "[encoded data removed]",
      "text/plain": [
       "<Figure size 432x288 with 1 Axes>"
      ]
     },
     "metadata": {
      "needs_background": "light"
     },
     "output_type": "display_data"
    }
   ],
   "source": [
    "# UPPER LEVEL ELECTIVES\n",
    "NaNs_320 = df['CMSC320'].isna().sum()\n",
    "NaNs_425 = df['CMSC425'].isna().sum()\n",
    "NaNs_472 = df['CMSC472'].isna().sum()\n",
    "NaNs_473 = df['CMSC473'].isna().sum()\n",
    "NaNs_475 = df['CMSC475'].isna().sum()\n",
    "CMSC320_num = 165 - NaNs_320\n",
    "CMSC425_num = 165 - NaNs_425\n",
    "CMSC472_num = 165 - NaNs_472\n",
    "CMSC473_num = 165 - NaNs_473\n",
    "CMSC475_num = 165 - NaNs_475\n",
    "d = {\n",
    "    'Courses' : ['CMSC320', 'CMSC425', 'CMSC472','CMSC473', 'CMSC475'],\n",
    "    'Number of Students' : [CMSC420_num, CMSC425_num, CMSC472_num, CMSC473_num, CMSC475_num],\n",
    "}\n",
    "electives = pd.DataFrame(data=d)\n",
    "sns.barplot(x=\"Number of Students\", y=\"Courses\", data=electives)\n",
    "plt.title(\"Upper Level Electives\")\n",
    "plt.xlabel(\"Frequency\")\n",
    "plt.ylabel(\"Courses\")\n",
    "plt.show()"
   ]
  },
  {
   "cell_type": "code",
   "execution_count": null,
   "metadata": {},
   "outputs": [],
   "source": []
  }
 ],
 "metadata": {
  "kernelspec": {
   "display_name": "Python 3",
   "language": "python",
   "name": "python3"
  },
  "language_info": {
   "codemirror_mode": {
    "name": "ipython",
    "version": 3
   },
   "file_extension": ".py",
   "mimetype": "text/x-python",
   "name": "python",
   "nbconvert_exporter": "python",
   "pygments_lexer": "ipython3",
   "version": "3.7.4"
  }
 },
 "nbformat": 4,
 "nbformat_minor": 5
}
